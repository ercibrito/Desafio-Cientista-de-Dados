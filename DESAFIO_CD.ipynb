{
  "nbformat": 4,
  "nbformat_minor": 0,
  "metadata": {
    "colab": {
      "provenance": []
    },
    "kernelspec": {
      "name": "python3",
      "display_name": "Python 3"
    },
    "language_info": {
      "name": "python"
    }
  },
  "cells": [
    {
      "cell_type": "markdown",
      "source": [
        "# Desafio Cientista de Dados (Indicium)"
      ],
      "metadata": {
        "id": "7vUSibeDojd5"
      }
    },
    {
      "cell_type": "markdown",
      "source": [
        "A Indicium está desenvolvendo um modelo preditivo de preços para uma plataforma de aluguéis temporários em Nova York. Utilizando dados do maior concorrente, o modelo irá estimar os preços ideais para cada imóvel, maximizando a receita e a ocupação."
      ],
      "metadata": {
        "id": "rT1ll_tTpxvP"
      }
    },
    {
      "cell_type": "markdown",
      "source": [
        "# 1 - EDA"
      ],
      "metadata": {
        "id": "TgJfR91o_V6t"
      }
    },
    {
      "cell_type": "markdown",
      "source": [
        "## Importação das bibliotecas"
      ],
      "metadata": {
        "id": "_gf6qoxLqGdr"
      }
    },
    {
      "cell_type": "code",
      "source": [
        "# Importação das bibliotecas\n",
        "import pandas as pd\n",
        "import pickle\n",
        "import numpy as np\n",
        "import matplotlib.pyplot as plt\n",
        "import seaborn as sns\n",
        "from scipy.stats import spearmanr, ttest_ind\n",
        "from collections import Counter\n",
        "from google.colab import drive\n",
        "\n",
        "# Importação de bibliotecas para ML\n",
        "from sklearn.model_selection import train_test_split\n",
        "from sklearn.preprocessing import StandardScaler\n",
        "from sklearn.ensemble import RandomForestRegressor, VotingRegressor\n",
        "from sklearn.svm import SVR\n",
        "from sklearn.metrics import mean_squared_error, r2_score, mean_absolute_percentage_error\n",
        "from sklearn.neural_network import MLPRegressor\n",
        "from keras.models import Sequential\n",
        "from keras.layers import Dense\n",
        "from keras.optimizers import Adam\n",
        "from tensorflow.keras.models import load_model\n",
        "\n",
        "# Configuração do estilo estético das plotagens\n",
        "sns.set_style()\n",
        "\n",
        "# Configurações de visualização para DataFrames\n",
        "pd.set_option('display.max_columns', None)\n",
        "pd.set_option('display.width', 1000)\n",
        "\n",
        "# Configurações gerais de visualização\n",
        "plt.style.use('ggplot')\n",
        "plt.rcParams['axes.facecolor'] = 'white'\n",
        "plt.rcParams['grid.color'] = 'lightgray'\n",
        "plt.rcParams['xtick.color'] = 'black'\n",
        "plt.rcParams['ytick.color'] = 'black'\n",
        "plt.rcParams['axes.grid'] = True\n",
        "plt.rcParams['figure.dpi'] = 150"
      ],
      "metadata": {
        "id": "ZVcb4ugkqYeg"
      },
      "execution_count": 35,
      "outputs": []
    },
    {
      "cell_type": "markdown",
      "source": [
        "## Importação do Dataset"
      ],
      "metadata": {
        "id": "PeIT-qq-rIjn"
      }
    },
    {
      "cell_type": "code",
      "execution_count": 2,
      "metadata": {
        "colab": {
          "base_uri": "https://localhost:8080/"
        },
        "id": "4Fg6KzA8jJZW",
        "outputId": "f71fd89c-c65f-4447-ba62-18c28fa12723"
      },
      "outputs": [
        {
          "output_type": "stream",
          "name": "stdout",
          "text": [
            "Mounted at /content/drive\n"
          ]
        }
      ],
      "source": [
        "drive.mount('/content/drive')\n",
        "df = pd.read_csv('/content/teste_indicium_precificacao.csv')"
      ]
    },
    {
      "cell_type": "markdown",
      "source": [
        "## Exploração dos dados"
      ],
      "metadata": {
        "id": "TNQjyiZlt3Ek"
      }
    },
    {
      "cell_type": "code",
      "source": [
        "print(df.head())"
      ],
      "metadata": {
        "colab": {
          "base_uri": "https://localhost:8080/"
        },
        "id": "V_Oxz60Tt5BG",
        "outputId": "fd3455b9-798d-466e-96fc-e8fb808dec0b"
      },
      "execution_count": 3,
      "outputs": [
        {
          "output_type": "stream",
          "name": "stdout",
          "text": [
            "     id                                              nome  host_id    host_name bairro_group        bairro  latitude  longitude        room_type  price  minimo_noites  numero_de_reviews ultima_review  reviews_por_mes  calculado_host_listings_count  disponibilidade_365\n",
            "0  2595                             Skylit Midtown Castle     2845     Jennifer    Manhattan       Midtown  40.75362  -73.98377  Entire home/apt    225              1                 45    2019-05-21             0.38                              2                  355\n",
            "1  3647               THE VILLAGE OF HARLEM....NEW YORK !     4632    Elisabeth    Manhattan        Harlem  40.80902  -73.94190     Private room    150              3                  0           NaN              NaN                              1                  365\n",
            "2  3831                   Cozy Entire Floor of Brownstone     4869  LisaRoxanne     Brooklyn  Clinton Hill  40.68514  -73.95976  Entire home/apt     89              1                270    2019-07-05             4.64                              1                  194\n",
            "3  5022  Entire Apt: Spacious Studio/Loft by central park     7192        Laura    Manhattan   East Harlem  40.79851  -73.94399  Entire home/apt     80             10                  9    2018-11-19             0.10                              1                    0\n",
            "4  5099         Large Cozy 1 BR Apartment In Midtown East     7322        Chris    Manhattan   Murray Hill  40.74767  -73.97500  Entire home/apt    200              3                 74    2019-06-22             0.59                              1                  129\n"
          ]
        }
      ]
    },
    {
      "cell_type": "code",
      "source": [
        "print(df.info())"
      ],
      "metadata": {
        "colab": {
          "base_uri": "https://localhost:8080/"
        },
        "id": "mqamPCQEuCVG",
        "outputId": "e4ac8568-9c03-4bf0-b8fe-aad9f576e041"
      },
      "execution_count": 4,
      "outputs": [
        {
          "output_type": "stream",
          "name": "stdout",
          "text": [
            "<class 'pandas.core.frame.DataFrame'>\n",
            "RangeIndex: 48894 entries, 0 to 48893\n",
            "Data columns (total 16 columns):\n",
            " #   Column                         Non-Null Count  Dtype  \n",
            "---  ------                         --------------  -----  \n",
            " 0   id                             48894 non-null  int64  \n",
            " 1   nome                           48878 non-null  object \n",
            " 2   host_id                        48894 non-null  int64  \n",
            " 3   host_name                      48873 non-null  object \n",
            " 4   bairro_group                   48894 non-null  object \n",
            " 5   bairro                         48894 non-null  object \n",
            " 6   latitude                       48894 non-null  float64\n",
            " 7   longitude                      48894 non-null  float64\n",
            " 8   room_type                      48894 non-null  object \n",
            " 9   price                          48894 non-null  int64  \n",
            " 10  minimo_noites                  48894 non-null  int64  \n",
            " 11  numero_de_reviews              48894 non-null  int64  \n",
            " 12  ultima_review                  38842 non-null  object \n",
            " 13  reviews_por_mes                38842 non-null  float64\n",
            " 14  calculado_host_listings_count  48894 non-null  int64  \n",
            " 15  disponibilidade_365            48894 non-null  int64  \n",
            "dtypes: float64(3), int64(7), object(6)\n",
            "memory usage: 6.0+ MB\n",
            "None\n"
          ]
        }
      ]
    },
    {
      "cell_type": "code",
      "source": [
        "print(df.describe())"
      ],
      "metadata": {
        "colab": {
          "base_uri": "https://localhost:8080/"
        },
        "id": "WH6JB4siuHEy",
        "outputId": "e56d6481-dfcd-45ac-f83b-e16e9ea19c67"
      },
      "execution_count": 5,
      "outputs": [
        {
          "output_type": "stream",
          "name": "stdout",
          "text": [
            "                 id       host_id      latitude     longitude         price  minimo_noites  numero_de_reviews  reviews_por_mes  calculado_host_listings_count  disponibilidade_365\n",
            "count  4.889400e+04  4.889400e+04  48894.000000  48894.000000  48894.000000   48894.000000       48894.000000     38842.000000                   48894.000000         48894.000000\n",
            "mean   1.901753e+07  6.762139e+07     40.728951    -73.952169    152.720763       7.030085          23.274758         1.373251                       7.144005           112.776169\n",
            "std    1.098288e+07  7.861118e+07      0.054529      0.046157    240.156625      20.510741          44.550991         1.680453                      32.952855           131.618692\n",
            "min    2.595000e+03  2.438000e+03     40.499790    -74.244420      0.000000       1.000000           0.000000         0.010000                       1.000000             0.000000\n",
            "25%    9.472371e+06  7.822737e+06     40.690100    -73.983070     69.000000       1.000000           1.000000         0.190000                       1.000000             0.000000\n",
            "50%    1.967743e+07  3.079553e+07     40.723075    -73.955680    106.000000       3.000000           5.000000         0.720000                       1.000000            45.000000\n",
            "75%    2.915225e+07  1.074344e+08     40.763117    -73.936273    175.000000       5.000000          24.000000         2.020000                       2.000000           227.000000\n",
            "max    3.648724e+07  2.743213e+08     40.913060    -73.712990  10000.000000    1250.000000         629.000000        58.500000                     327.000000           365.000000\n"
          ]
        }
      ]
    },
    {
      "cell_type": "markdown",
      "source": [
        "  A análise estatística descritiva básica (média, mediana, desvio padrão, mínimos e máximos) é mais relevante para variáveis numéricas, pois fornece insights sobre dispersão, tendência central e distribuição dos dados.\n",
        "  \n",
        "  Na analise de preço (*price*), a média é de 152,72 dólares, mas a mediana é de 69 dólares, indicando que a distribuição dos preços está assimétrica, provavelmente com valores extremos (*outliers*), como o valor máximo de 10.000 dólares, e o preço mínimo de 0 dólares, assim é necessário a etapa de tratamento de valores inconsistentes."
      ],
      "metadata": {
        "id": "O3PkUNHvwG14"
      }
    },
    {
      "cell_type": "markdown",
      "source": [
        "## Tratamento de valores inconsistentes"
      ],
      "metadata": {
        "id": "qTjs0NBgxTO-"
      }
    },
    {
      "cell_type": "code",
      "source": [
        "print(df.isnull().sum())"
      ],
      "metadata": {
        "colab": {
          "base_uri": "https://localhost:8080/"
        },
        "id": "xDqmhJtAEDmy",
        "outputId": "3211ec5a-7413-46fa-d364-65a87b64a682"
      },
      "execution_count": 6,
      "outputs": [
        {
          "output_type": "stream",
          "name": "stdout",
          "text": [
            "id                                   0\n",
            "nome                                16\n",
            "host_id                              0\n",
            "host_name                           21\n",
            "bairro_group                         0\n",
            "bairro                               0\n",
            "latitude                             0\n",
            "longitude                            0\n",
            "room_type                            0\n",
            "price                                0\n",
            "minimo_noites                        0\n",
            "numero_de_reviews                    0\n",
            "ultima_review                    10052\n",
            "reviews_por_mes                  10052\n",
            "calculado_host_listings_count        0\n",
            "disponibilidade_365                  0\n",
            "dtype: int64\n"
          ]
        }
      ]
    },
    {
      "cell_type": "markdown",
      "source": [
        "A análise dos dados revela que a maioria das colunas apresenta nenhum valor nulo, indicando um conjunto de dados relativamente limpo. No entanto, as colunas \"nome\", \"host_name\", \"ultima_review\" e \"reviews_por_mes\" apresentam um número considerável de valores ausentes."
      ],
      "metadata": {
        "id": "bDId2XsUEhm7"
      }
    },
    {
      "cell_type": "code",
      "source": [
        "print((df == 0).sum())"
      ],
      "metadata": {
        "colab": {
          "base_uri": "https://localhost:8080/"
        },
        "id": "lG8bIDUBBrJd",
        "outputId": "58e8c915-3d1c-4ecb-8fa4-a0ec81ab328b"
      },
      "execution_count": 7,
      "outputs": [
        {
          "output_type": "stream",
          "name": "stdout",
          "text": [
            "id                                   0\n",
            "nome                                 0\n",
            "host_id                              0\n",
            "host_name                            0\n",
            "bairro_group                         0\n",
            "bairro                               0\n",
            "latitude                             0\n",
            "longitude                            0\n",
            "room_type                            0\n",
            "price                               11\n",
            "minimo_noites                        0\n",
            "numero_de_reviews                10052\n",
            "ultima_review                        0\n",
            "reviews_por_mes                      0\n",
            "calculado_host_listings_count        0\n",
            "disponibilidade_365              17533\n",
            "dtype: int64\n"
          ]
        }
      ]
    },
    {
      "cell_type": "markdown",
      "source": [
        "Pode-se observar que a lógica demonstra que, em *numero_de_reviews* onde o número total de avaliações  é igual a zero, as variáveis *ultima_review* e *reviews_por_mes* são nulas. Isso reflete a ausência de avaliações históricas para esses anúncios. A relação entre essas variáveis é intrínseca, uma vez que a frequência média de avaliações mensais (*reviews_por_mes*) depende do número acumulado de avaliações, e a data da última avaliação (*ultima_review*) só é registrada para anúncios com pelo menos uma interação. Assim, a ausência de valores nessas colunas não deve ser interpretada como inconsistência dos dados, mas como uma característica dos registros que ainda não receberam avaliações."
      ],
      "metadata": {
        "id": "oCLbJ_qVDrAK"
      }
    },
    {
      "cell_type": "code",
      "source": [
        "numeric_cols = df.select_dtypes(include=['int64', 'float64'])\n",
        "df_negativos = numeric_cols < 0\n",
        "linhas_com_negativos = df[df_negativos.any(axis=1)]\n",
        "print(df_negativos.sum())"
      ],
      "metadata": {
        "colab": {
          "base_uri": "https://localhost:8080/"
        },
        "id": "DevbCEre_CVq",
        "outputId": "3acc2edc-2ceb-46e1-fc02-855f7ba379ff"
      },
      "execution_count": 8,
      "outputs": [
        {
          "output_type": "stream",
          "name": "stdout",
          "text": [
            "id                                   0\n",
            "host_id                              0\n",
            "latitude                             0\n",
            "longitude                        48894\n",
            "price                                0\n",
            "minimo_noites                        0\n",
            "numero_de_reviews                    0\n",
            "reviews_por_mes                      0\n",
            "calculado_host_listings_count        0\n",
            "disponibilidade_365                  0\n",
            "dtype: int64\n"
          ]
        }
      ]
    },
    {
      "cell_type": "markdown",
      "source": [
        "A análise dos dados revela que a maioria das colunas apresenta nenhum valor negativo, mais um indicativo de um conjunto de dados relativamente limpo, uma vez que valores negativos para a maioria das colunas seriam ilógicos. No entanto, a coluna \"longitude\" apresenta valores negativos, o que é plausível, uma vez que a longitude pode assumir valores negativos no hemisfério oeste."
      ],
      "metadata": {
        "id": "skP5_5J9AH6p"
      }
    },
    {
      "cell_type": "code",
      "source": [
        "df = df[df['price'] >= 30]\n",
        "df['reviews_por_mes'].fillna(0, inplace=True)\n",
        "df['ultima_review'].fillna(0, inplace=True)\n",
        "df['taxa_ocupacao_anual'] = (365 - df['disponibilidade_365']) / 365"
      ],
      "metadata": {
        "collapsed": true,
        "id": "Uzh7hg7cxYrH",
        "colab": {
          "base_uri": "https://localhost:8080/"
        },
        "outputId": "74d3b39e-7de4-4096-df48-0dad66f26c45"
      },
      "execution_count": 9,
      "outputs": [
        {
          "output_type": "stream",
          "name": "stderr",
          "text": [
            "<ipython-input-9-0e920bb9fae4>:2: FutureWarning: A value is trying to be set on a copy of a DataFrame or Series through chained assignment using an inplace method.\n",
            "The behavior will change in pandas 3.0. This inplace method will never work because the intermediate object on which we are setting values always behaves as a copy.\n",
            "\n",
            "For example, when doing 'df[col].method(value, inplace=True)', try using 'df.method({col: value}, inplace=True)' or df[col] = df[col].method(value) instead, to perform the operation inplace on the original object.\n",
            "\n",
            "\n",
            "  df['reviews_por_mes'].fillna(0, inplace=True)\n",
            "<ipython-input-9-0e920bb9fae4>:2: SettingWithCopyWarning: \n",
            "A value is trying to be set on a copy of a slice from a DataFrame\n",
            "\n",
            "See the caveats in the documentation: https://pandas.pydata.org/pandas-docs/stable/user_guide/indexing.html#returning-a-view-versus-a-copy\n",
            "  df['reviews_por_mes'].fillna(0, inplace=True)\n",
            "<ipython-input-9-0e920bb9fae4>:3: FutureWarning: A value is trying to be set on a copy of a DataFrame or Series through chained assignment using an inplace method.\n",
            "The behavior will change in pandas 3.0. This inplace method will never work because the intermediate object on which we are setting values always behaves as a copy.\n",
            "\n",
            "For example, when doing 'df[col].method(value, inplace=True)', try using 'df.method({col: value}, inplace=True)' or df[col] = df[col].method(value) instead, to perform the operation inplace on the original object.\n",
            "\n",
            "\n",
            "  df['ultima_review'].fillna(0, inplace=True)\n",
            "<ipython-input-9-0e920bb9fae4>:3: SettingWithCopyWarning: \n",
            "A value is trying to be set on a copy of a slice from a DataFrame\n",
            "\n",
            "See the caveats in the documentation: https://pandas.pydata.org/pandas-docs/stable/user_guide/indexing.html#returning-a-view-versus-a-copy\n",
            "  df['ultima_review'].fillna(0, inplace=True)\n",
            "<ipython-input-9-0e920bb9fae4>:4: SettingWithCopyWarning: \n",
            "A value is trying to be set on a copy of a slice from a DataFrame.\n",
            "Try using .loc[row_indexer,col_indexer] = value instead\n",
            "\n",
            "See the caveats in the documentation: https://pandas.pydata.org/pandas-docs/stable/user_guide/indexing.html#returning-a-view-versus-a-copy\n",
            "  df['taxa_ocupacao_anual'] = (365 - df['disponibilidade_365']) / 365\n"
          ]
        }
      ]
    },
    {
      "cell_type": "markdown",
      "source": [
        "- Preços: Remover preços nulos e muito baixos garante que a análise seja feita com dados válidos e consistentes, uma vez que preços zerados não fazem sentido em um contexto comercial e valores muito baixos podem indicar erros na coleta de dados que dificultariam a análise. Em uma cidade como Nova York, mesmo os anúncios mais acessíveis tendem a ter preços acima de 30 dolares (estimativa), especialmente devido aos custos de operação e a alta demanda.\n",
        "\n",
        "- Última review e Reviews por mês: Substituir NaN por 0 indica que não há reviews, algo que é plausível para novos anuncios.\n",
        "\n",
        "\n",
        "- Disponibilidade anual: A criação da coluna \"taxa_ocupacao_anual\" a partir dos dados permite uma interpretação mais intuitiva da disponibilidade dos imóveis, uma vez que quanto maior a taxa de ocupação, menos dias disponíveis no ano."
      ],
      "metadata": {
        "id": "C3uUi4nJ37OP"
      }
    },
    {
      "cell_type": "markdown",
      "source": [
        "## Análises estatisticas"
      ],
      "metadata": {
        "id": "Aw4DvQSPKGqc"
      }
    },
    {
      "cell_type": "markdown",
      "source": [
        "### Análise de correlação"
      ],
      "metadata": {
        "id": "wAvGKgPvMrQ_"
      }
    },
    {
      "cell_type": "code",
      "source": [
        "numeric_cols = df.select_dtypes(include=['float64', 'int64'])\n",
        "plt.figure(figsize=(7, 5))\n",
        "sns.heatmap(numeric_cols.corr(), annot=True, cmap='coolwarm', fmt=\".2f\")\n",
        "plt.title(\"Correlação entre variáveis numéricas\")\n",
        "plt.show()"
      ],
      "metadata": {
        "colab": {
          "base_uri": "https://localhost:8080/",
          "height": 782
        },
        "id": "LIBVissBKOTQ",
        "outputId": "46ab9786-96ce-411b-ce0e-ccbf52cf7426"
      },
      "execution_count": 10,
      "outputs": [
        {
          "output_type": "display_data",
          "data": {
            "text/plain": [
              "<Figure size 1050x750 with 2 Axes>"
            ],
            "image/png": "[encoded data removed]"
          },
          "metadata": {}
        }
      ]
    },
    {
      "cell_type": "markdown",
      "source": [
        "- numero_de_reviews e reviews_por_mes (0.59): Há uma correlação positiva significativa, o que faz sentido, já que propriedades com mais avaliações totais provavelmente têm mais avaliações mensais.\n",
        "\n",
        "- disponibilidade_365 e taxa_ocupacao_anual (-1.00): Essa relação é perfeitamente negativa, indicando que as duas variáveis são inversamente relacionadas, o que é claro já que a taxa de ocupação anual foi uma coluna criada a partir da disponibilidade_365 para facilitar a compreensão.\n",
        "\n",
        "- calculado_host_listings_count e disponibilidade_365 (0.23): Há uma correlação positiva fraca, o que sugere que anfitriões com mais propriedades podem ter listagens disponíveis por mais dias.\n",
        "\n",
        "- Variáveis como latitude e longitude têm pouca ou nenhuma relação linear com outras variáveis, o que é esperado, pois são mais geográficas."
      ],
      "metadata": {
        "id": "GbX21PxPLEaR"
      }
    },
    {
      "cell_type": "markdown",
      "source": [
        "### Segmentação de Dados"
      ],
      "metadata": {
        "id": "tGR-IUJRM80s"
      }
    },
    {
      "cell_type": "code",
      "source": [
        "sns.boxplot(data=df, x=\"bairro_group\", y=\"price\")\n",
        "plt.title(\"Distribuição de Preços por Região\")\n",
        "plt.show()"
      ],
      "metadata": {
        "colab": {
          "base_uri": "https://localhost:8080/",
          "height": 706
        },
        "id": "LAYB6QGnNCP1",
        "outputId": "c276e33c-f18e-4241-8fee-350b5ee2cc6d"
      },
      "execution_count": 11,
      "outputs": [
        {
          "output_type": "display_data",
          "data": {
            "text/plain": [
              "<Figure size 960x720 with 1 Axes>"
            ],
            "image/png": "[encoded data removed]"
          },
          "metadata": {}
        }
      ]
    },
    {
      "cell_type": "markdown",
      "source": [
        "A análise da distribuição de preços por região revela diferenças significativas entre os bairros. Manhattan destaca-se como a região com os preços mais altos, apresentando grande variação e muitos outliers que chegam a valores próximos de 10.000 dólares, refletindo sua alta demanda e status premium. Brooklyn também possui preços elevados, mas geralmente abaixo dos de Manhattan, enquanto Queens apresenta valores moderados com menor dispersão. Staten Island e Bronx, por outro lado, são as regiões mais acessíveis, com preços mais baixos e menos variabilidade. A mediana dos preços confirma essas tendências, sendo mais alta em Manhattan e mais baixa em Bronx e Staten Island. Essas diferenças refletem as características socioeconômicas e o apelo de cada região."
      ],
      "metadata": {
        "id": "1ejy3NYeOSA4"
      }
    },
    {
      "cell_type": "code",
      "source": [
        "def remover_outliers_por_regiao(df, coluna_regiao, coluna_preco):\n",
        "    df_sem_outliers = pd.DataFrame()\n",
        "    for regiao in df[coluna_regiao].unique():\n",
        "        dados_regiao = df[df[coluna_regiao] == regiao]\n",
        "\n",
        "        Q1 = dados_regiao[coluna_preco].quantile(0.25)\n",
        "        Q3 = dados_regiao[coluna_preco].quantile(0.75)\n",
        "        IQR = Q3 - Q1\n",
        "\n",
        "        limite_inferior = Q1 - 1.5 * IQR\n",
        "        limite_superior = Q3 + 1.5 * IQR\n",
        "\n",
        "        dados_filtrados = dados_regiao[(dados_regiao[coluna_preco] >= limite_inferior) & (dados_regiao[coluna_preco] <= limite_superior)]\n",
        "\n",
        "        df_sem_outliers = pd.concat([df_sem_outliers, dados_filtrados])\n",
        "\n",
        "    return df_sem_outliers\n",
        "\n",
        "df_sem_outliers = remover_outliers_por_regiao(df, 'bairro_group', 'price')\n",
        "\n",
        "print(f'dados antes: {len(df)}')\n",
        "print(f'dados depois: {len(df_sem_outliers)}')\n"
      ],
      "metadata": {
        "colab": {
          "base_uri": "https://localhost:8080/"
        },
        "id": "ELx3_K4uOp6j",
        "outputId": "f3e5deea-da9e-4833-90da-03a9d9897558"
      },
      "execution_count": 12,
      "outputs": [
        {
          "output_type": "stream",
          "name": "stdout",
          "text": [
            "dados antes: 48490\n",
            "dados depois: 45796\n"
          ]
        }
      ]
    },
    {
      "cell_type": "code",
      "source": [
        "df=df_sem_outliers\n",
        "sns.boxplot(data=df, x='bairro_group', y='price')\n",
        "plt.title('Distribuição de Preços por Região')\n",
        "plt.show()"
      ],
      "metadata": {
        "colab": {
          "base_uri": "https://localhost:8080/",
          "height": 706
        },
        "id": "-6q8rcc6PKE6",
        "outputId": "85c5055d-ae51-4cc7-853b-a1528787343d"
      },
      "execution_count": 17,
      "outputs": [
        {
          "output_type": "display_data",
          "data": {
            "text/plain": [
              "<Figure size 960x720 with 1 Axes>"
            ],
            "image/png": "[encoded data removed]"
          },
          "metadata": {}
        }
      ]
    },
    {
      "cell_type": "markdown",
      "source": [
        "Após remover os outliers por região e plotar um novo boxplot, a distribuição de preços tornou-se mais representativa e alinhada às características de cada local. Em Manhattan, os preços continuam elevados, mas com menor dispersão. Regiões como Bronx, Staten Island e Queens mantiveram seus padrões de preços baixos, enquanto Brooklyn mostra valores moderados com menor variabilidade."
      ],
      "metadata": {
        "id": "P0ej3SUPm0gR"
      }
    },
    {
      "cell_type": "code",
      "source": [
        "sns.boxplot(x=df['price'])\n",
        "plt.title(\"Outliers de Preço\")\n",
        "plt.show()"
      ],
      "metadata": {
        "colab": {
          "base_uri": "https://localhost:8080/",
          "height": 703
        },
        "id": "TywyuHKGnQSN",
        "outputId": "693aed17-7a13-4269-8f8b-59b1f3a313b1"
      },
      "execution_count": 18,
      "outputs": [
        {
          "output_type": "display_data",
          "data": {
            "text/plain": [
              "<Figure size 960x720 with 1 Axes>"
            ],
            "image/png": "[encoded data removed]"
          },
          "metadata": {}
        }
      ]
    },
    {
      "cell_type": "markdown",
      "source": [
        "Após análise detalhada do boxplot e considerando o contexto do mercado imobiliário, optou-se por manter os outliers identificados. A presença de imóveis com preços significativamente mais altos pode ser justificada por diversas razões, como localização em regiões nobres (como Manhattan) ou características de luxo descritas no campo 'nome'. Esses outliers, ao contrário dos anteriormente identificados, apresentam valores mais coerentes com o mercado imobiliário e podem representar segmentos importantes do mercado, como o de imóveis de luxo."
      ],
      "metadata": {
        "id": "EVirIPqtq144"
      }
    },
    {
      "cell_type": "code",
      "source": [
        "print(df.describe())"
      ],
      "metadata": {
        "colab": {
          "base_uri": "https://localhost:8080/"
        },
        "id": "dF9hjLg8rhH3",
        "outputId": "c5f3b1f2-5fe3-477f-c0e2-fb5b92bca905"
      },
      "execution_count": 19,
      "outputs": [
        {
          "output_type": "stream",
          "name": "stdout",
          "text": [
            "                 id       host_id      latitude     longitude         price  minimo_noites  numero_de_reviews  reviews_por_mes  calculado_host_listings_count  disponibilidade_365  taxa_ocupacao_anual\n",
            "count  4.579600e+04  4.579600e+04  45796.000000  45796.000000  45796.000000   45796.000000       45796.000000     45796.000000                   45796.000000         45796.000000         45796.000000\n",
            "mean   1.888654e+07  6.625484e+07     40.729260    -73.951940    123.496332       6.995393          23.816796         1.102696                       7.019674           109.356560             0.700393\n",
            "std    1.093591e+07  7.762310e+07      0.054686      0.045601     73.599610      20.349143          45.215951         1.610930                      32.392716           130.267564             0.356897\n",
            "min    2.595000e+03  2.438000e+03     40.499790    -74.244420     30.000000       1.000000           0.000000         0.000000                       1.000000             0.000000             0.000000\n",
            "25%    9.409190e+06  7.707685e+06     40.690107    -73.982660     68.000000       1.000000           1.000000         0.050000                       1.000000             0.000000             0.405479\n",
            "50%    1.950046e+07  3.028359e+07     40.723090    -73.955140    100.000000       2.000000           5.000000         0.380000                       1.000000            39.000000             0.893151\n",
            "75%    2.893138e+07  1.053864e+08     40.763730    -73.936060    160.000000       5.000000          24.000000         1.610000                       2.000000           217.000000             1.000000\n",
            "max    3.648724e+07  2.743213e+08     40.913060    -73.712990    407.000000    1250.000000         629.000000        58.500000                     327.000000           365.000000             1.000000\n"
          ]
        }
      ]
    },
    {
      "cell_type": "markdown",
      "source": [
        "Após o tratamento dos dados, observa-se uma redução no número de registros de 48.894 para 45.796, reflexo da remoção de valores inconsistentes e outliers, especialmente na variável price. A média do preço por noite caiu de 152,72 dólares para 123,50 dólares, indicando que os valores extremos anteriormente presentes (como o máximo de 10.000 dólares e mínimo de 0) foram eliminados, reduzindo a dispersão, agora com um desvio padrão de 73,60 dólares (antes 240,16). A mediana também se ajustou, passando de 69 dólares para 100 dólares, aproximando-se da realidade central do mercado. Além disso, o valor mínimo do preço subiu de 0 dólares para 30 dólares, o que elimina registros inválidos ou não representativos. Por fim, a inclusão da variável taxa_ocupacao_anual fornece uma métrica adicional para analisar a disponibilidade dos imóveis, com valores variando entre 0 e 1, permitindo uma interpretação mais clara da ocupação em diferentes cenários."
      ],
      "metadata": {
        "id": "eZe5kIbsubHp"
      }
    },
    {
      "cell_type": "markdown",
      "source": [
        "## Testes de Hipóteses"
      ],
      "metadata": {
        "id": "shQwF5uUvYBG"
      }
    },
    {
      "cell_type": "markdown",
      "source": [
        "### Relação entre taxa de ocupação anual e preço"
      ],
      "metadata": {
        "id": "_fke2ToYzadt"
      }
    },
    {
      "cell_type": "markdown",
      "source": [
        "A lógica é baseada na relação entre demanda e precificação. Se um imóvel tem uma taxa de ocupação anual alta, isso pode indicar que ele é mais desejado pelos hóspedes, o que permitiria ao anfitrião cobrar preços mais elevados. Por outro lado, pode ser que imóveis mais baratos tenham uma alta ocupação simplesmente porque são acessíveis. Nesse teste será possível esclarecer se há uma associação real entre essas variáveis, e qual será a correta interpretação.\n",
        "\n",
        "- Hipótese Nula (H₀): A taxa de ocupação anual não está associada ao preço do imóvel.\n",
        "\n",
        "- Hipótese Alternativa (H₁): Existe uma correlação significativa entre taxa de ocupação anual e preço."
      ],
      "metadata": {
        "id": "HBYQvSf5zkT5"
      }
    },
    {
      "cell_type": "code",
      "source": [
        "correlacao, p_valor = spearmanr(df['taxa_ocupacao_anual'], df['price'])\n",
        "\n",
        "print(f'Coeficiente de Spearman: {correlacao:.4f}')\n",
        "print(f'Valor-p: {p_valor:.4f}')"
      ],
      "metadata": {
        "colab": {
          "base_uri": "https://localhost:8080/"
        },
        "id": "ZiOaggLyzTwe",
        "outputId": "ba016597-6dcd-467d-d6fd-a06049b3c637"
      },
      "execution_count": 20,
      "outputs": [
        {
          "output_type": "stream",
          "name": "stdout",
          "text": [
            "Coeficiente de Spearman: -0.0520\n",
            "Valor-p: 0.0000\n"
          ]
        }
      ]
    },
    {
      "cell_type": "markdown",
      "source": [
        "O coeficiente de Spearman foi -0.0520, indicando uma correlação negativa fraca entre a taxa de ocupação anual e o preço do imóvel. Ou seja, à medida que a taxa de ocupação aumenta, o preço tende a diminuir levemente, embora a relação seja muito fraca. O valor-p 0.0000 é altamente significativo (p < 0.05), o que nos leva a rejeitar a hipótese nula (H₀). Isso significa que existe uma associação estatisticamente significativa entre taxa de ocupação e preço, mas essa relação é fraca e negativa, sugerindo que imóveis mais baratos podem ter maior ocupação, devido aos preços mais acessíveis."
      ],
      "metadata": {
        "id": "hYznlevH1D1h"
      }
    },
    {
      "cell_type": "markdown",
      "source": [
        "### Relação entre ausência de avaliações e preços médios\n",
        "\n"
      ],
      "metadata": {
        "id": "pyTL0Y1a1yCo"
      }
    },
    {
      "cell_type": "markdown",
      "source": [
        "Nesse tipo de mercado, anfitriões e imóveis sem avaliações podem ter dificuldade em atrair hóspedes, pois novos usuários e anúncios podem ser vistos com desconfiança. Para compensar essa falta de reputação, esses anfitriões podem reduzir os preços para torná-los mais atraentes.\n",
        "\n",
        "- Hipótese Nula (H₀): Não há diferença significativa entre os preços médios de imóveis com e sem avaliações.\n",
        "\n",
        "- Hipótese Alternativa (H₁): Imóveis sem avaliações possuem preços médios diferentes dos que possuem avaliações."
      ],
      "metadata": {
        "id": "_Fd_VLeK1-Bm"
      }
    },
    {
      "cell_type": "code",
      "source": [
        "sem_reviews = df[df['numero_de_reviews'] == 0]['price']\n",
        "com_reviews = df[df['numero_de_reviews'] > 0]['price']\n",
        "\n",
        "estatistica, p_valor = ttest_ind(sem_reviews, com_reviews, equal_var=False)\n",
        "\n",
        "print(f'Estatística t: {estatistica:.4f}')\n",
        "print(f'Valor-p: {p_valor:.4f}')\n",
        "\n",
        "media_sem_avaliacoes = df[df['numero_de_reviews'] == 0]['price'].mean()\n",
        "media_com_avaliacoes = df[df['numero_de_reviews'] > 0]['price'].mean()\n",
        "\n",
        "print(f'Média sem avaliações: {media_sem_avaliacoes:.2f}')\n",
        "print(f'Média com avaliações: {media_com_avaliacoes:.2f}')\n"
      ],
      "metadata": {
        "colab": {
          "base_uri": "https://localhost:8080/"
        },
        "id": "iiUb61FO2kRw",
        "outputId": "8756129b-70ea-4185-b483-9e1716185faf"
      },
      "execution_count": 21,
      "outputs": [
        {
          "output_type": "stream",
          "name": "stdout",
          "text": [
            "Estatística t: 14.7001\n",
            "Valor-p: 0.0000\n",
            "Média sem avaliações: 134.77\n",
            "Média com avaliações: 120.70\n"
          ]
        }
      ]
    },
    {
      "cell_type": "markdown",
      "source": [
        "A estatística t de 14.7001 e o valor-p 0.0000 indicam que há uma diferença estatisticamente significativa (p < 0.05) entre os preços médios de imóveis com e sem avaliações. No entanto, ao analisar as médias, vemos que imóveis sem avaliações têm um preço médio de 134.77, enquanto os imóveis com avaliações têm um preço médio de 120.70. Isso contradiz a hipótese inicial de que imóveis sem avaliações teriam preços mais baixos. Assim, embora rejeitemos a hipótese nula (H₀, que afirmava não haver diferença nos preços), a diferença observada sugere que, na verdade, imóveis sem avaliações tendem a ter preços mais altos, o que pode indicar que novos anunciantes não necessariamente reduzem os preços para atrair hóspedes.\n",
        "\n",
        "Novos anfitriões podem começar com preços elevados para testar o mercado e verificar se conseguem reservas sem precisar reduzi-los inicialmente. Isso pode ocorrer também porque anfitriões novos, ainda sem experiência na plataforma, não conhecem bem sua dinâmica e acabam definindo preços mais altos na expectativa de atrair hóspedes, sem perceber que imóveis mais baratos com avaliações podem ser mais competitivos."
      ],
      "metadata": {
        "id": "mNVpc_iK3gTD"
      }
    },
    {
      "cell_type": "markdown",
      "source": [
        "### Impacto do número mínimo de noites nos preços"
      ],
      "metadata": {
        "id": "kP4m4spo5jAe"
      }
    },
    {
      "cell_type": "markdown",
      "source": [
        "Imóveis que exigem uma estadia mínima mais longa podem ter preços médios mais baixos para atrair hóspedes dispostos a compromissos maiores. Isso ocorre porque estadias curtas costumam gerar mais trabalho para o anfitrião (limpeza, manutenção), enquanto reservas longas oferecem maior previsibilidade e estabilidade de renda.\n",
        "\n",
        "- Hipótese Nula (H₀): Imóveis com um número mínimo de noites maior que 5 não apresentam diferença significativa no preço médio em relação aos imóveis com um número mínimo menor ou igual a 5.\n",
        "\n",
        "- Hipótese Alternativa (H₁): Imóveis com um número mínimo de noites maior que 5 possuem preços médios significativamente diferentes."
      ],
      "metadata": {
        "id": "hSEHWd5G5p8w"
      }
    },
    {
      "cell_type": "code",
      "source": [
        "noites_curto_prazo = df[df['minimo_noites'] <= 5]['price']\n",
        "noites_longo_prazo = df[df['minimo_noites'] > 5]['price']\n",
        "\n",
        "estatistica, p_valor = ttest_ind(noites_curto_prazo, noites_longo_prazo, equal_var=False)\n",
        "\n",
        "print(f'Estatística t: {estatistica:.4f}')\n",
        "print(f'Valor-p: {p_valor:.4f}')\n",
        "\n",
        "media_curto_prazo = noites_curto_prazo.mean()\n",
        "media_longo_prazo = noites_longo_prazo.mean()\n",
        "\n",
        "print(f'Média curto prazo: {media_curto_prazo:.2f}')\n",
        "print(f'Média longo prazo: {media_longo_prazo:.2f}')\n"
      ],
      "metadata": {
        "colab": {
          "base_uri": "https://localhost:8080/"
        },
        "id": "btzN4H1y6ck3",
        "outputId": "c299938a-c835-4329-8abe-b97e373b2a47"
      },
      "execution_count": 22,
      "outputs": [
        {
          "output_type": "stream",
          "name": "stdout",
          "text": [
            "Estatística t: -6.3405\n",
            "Valor-p: 0.0000\n",
            "Média curto prazo: 122.33\n",
            "Média longo prazo: 127.93\n"
          ]
        }
      ]
    },
    {
      "cell_type": "markdown",
      "source": [
        "Com base nos resultados do teste t, a estatística t obtida foi -6.3405 e o valor-p foi 0.0000. O valor-p muito baixo indica que a diferença observada entre os preços curto prazo e longo prazo é significativa. Além disso, as médias dos preços curto prazo (122,33 dólares) e longo prazo (127,93 dólares) são diferentes, com uma diferença de apenas 5,60 dólares. Dado que o valor-p é inferior ao nível de significância usual de 0,05, rejeitamos a hipótese nula de que não há diferença significativa entre os preços médios dos dois grupos.\n",
        "\n",
        "Embora a diferença tenha sido estatisticamente significativa, o tamanho da diferença nas médias pode ser considerada pequena em termos práticos. Isso sugere que, embora a distribuição dos preços dos dois grupos seja diferente, outros fatores além da duração da estadia podem influenciar o preço dos imóveis de maneira mais significativa. Portanto, apesar da rejeição da hipótese nula, é importante considerar que a significância estatística não implica necessariamente uma diferença substantiva no contexto real."
      ],
      "metadata": {
        "id": "JtCAcsxR7AXd"
      }
    },
    {
      "cell_type": "markdown",
      "source": [
        "# 2 - Perguntas específicas"
      ],
      "metadata": {
        "id": "0YnB4a-P_dsl"
      }
    },
    {
      "cell_type": "markdown",
      "source": [
        "## Onde seria mais indicada a compra?"
      ],
      "metadata": {
        "id": "qid2UHh2-IVv"
      }
    },
    {
      "cell_type": "markdown",
      "source": [
        "Supondo que uma pessoa esteja pensando em investir em um apartamento para alugar na plataforma, onde seria mais indicada a compra?\n"
      ],
      "metadata": {
        "id": "zXheJ40U_nR5"
      }
    },
    {
      "cell_type": "code",
      "source": [
        "preco_bairro_group_media = df.groupby('bairro_group')['price'].mean().sort_values(ascending=False)\n",
        "print('Média de Preço por Bairro Group (Ordenado):')\n",
        "print(preco_bairro_group_media)"
      ],
      "metadata": {
        "colab": {
          "base_uri": "https://localhost:8080/"
        },
        "id": "-AORF4wjUJCJ",
        "outputId": "006d3094-d5b7-4c9f-8633-cb3d03fb02db"
      },
      "execution_count": 23,
      "outputs": [
        {
          "output_type": "stream",
          "name": "stdout",
          "text": [
            "Média de Preço por Bairro Group (Ordenado):\n",
            "bairro_group\n",
            "Manhattan        155.846248\n",
            "Brooklyn         103.388474\n",
            "Queens            82.684911\n",
            "Staten Island     81.849558\n",
            "Bronx             73.479959\n",
            "Name: price, dtype: float64\n"
          ]
        }
      ]
    },
    {
      "cell_type": "code",
      "source": [
        "avaliacoes_bairro_group_media = df.groupby('bairro_group')['numero_de_reviews'].mean().sort_values(ascending=False)\n",
        "print('Média de Avaliações por Bairro Group (Ordenado):')\n",
        "print(avaliacoes_bairro_group_media)"
      ],
      "metadata": {
        "colab": {
          "base_uri": "https://localhost:8080/"
        },
        "id": "rD6sJ6WyUbSP",
        "outputId": "445a1c5f-f55d-423c-8748-f35c7a279bfc"
      },
      "execution_count": 24,
      "outputs": [
        {
          "output_type": "stream",
          "name": "stdout",
          "text": [
            "Média de Avaliações por Bairro Group (Ordenado):\n",
            "bairro_group\n",
            "Staten Island    32.616519\n",
            "Queens           28.474534\n",
            "Bronx            27.446043\n",
            "Brooklyn         24.613431\n",
            "Manhattan        21.549766\n",
            "Name: numero_de_reviews, dtype: float64\n"
          ]
        }
      ]
    },
    {
      "cell_type": "code",
      "source": [
        "taxa_ocupacao_bairro_group_media = df.groupby('bairro_group')['taxa_ocupacao_anual'].mean().sort_values(ascending=False)\n",
        "print('Média de Taxa de Ocupação Anual por Bairro Group (Ordenado):')\n",
        "print(taxa_ocupacao_bairro_group_media)"
      ],
      "metadata": {
        "colab": {
          "base_uri": "https://localhost:8080/"
        },
        "id": "p7mTKA4qUkpA",
        "outputId": "e5bd1e03-de3f-47c8-acab-643b3d7c321b"
      },
      "execution_count": 25,
      "outputs": [
        {
          "output_type": "stream",
          "name": "stdout",
          "text": [
            "Média de Taxa de Ocupação Anual por Bairro Group (Ordenado):\n",
            "bairro_group\n",
            "Brooklyn         0.732137\n",
            "Manhattan        0.704623\n",
            "Queens           0.614815\n",
            "Bronx            0.547548\n",
            "Staten Island    0.444361\n",
            "Name: taxa_ocupacao_anual, dtype: float64\n"
          ]
        }
      ]
    },
    {
      "cell_type": "markdown",
      "source": [
        "Analisando os resultados de preço médio, número de avaliações e taxa de ocupação anual por bairro_group, podemos identificar as melhores regiões para investir. Manhattan apresenta o preço médio mais alto, o que pode gerar um maior retorno financeiro, mas a taxa de ocupação e o número de avaliações são mais baixos, indicando uma demanda um pouco menor. Staten Island e Bronx têm preços mais baixos, o que torna o investimento mais acessível, e apresentam uma maior taxa de ocupação e mais avaliações, sugerindo alta demanda e uma boa rotatividade de inquilinos, embora o retorno por unidade alugada seja menor. Brooklyn oferece uma boa combinação de preço razoável e alta taxa de ocupação, tornando-se uma opção interessante para quem busca um fluxo de caixa constante.\n",
        "\n",
        "Se o investidor está em busca de um fluxo de caixa constante e boa demanda, Brooklyn pode ser a escolha ideal. Para um investimento com baixo custo inicial e alta rotatividade, Staten Island e Bronx são boas opções. Se o objetivo for maior retorno a longo prazo e valorização do imóvel, Manhattan pode ser vantajosa, apesar do preço elevado e maior risco. A escolha final vai depender do perfil do investidor e dos seus objetivos financeiros, equilibrando preço, demanda e risco."
      ],
      "metadata": {
        "id": "hM08SosfXCGA"
      }
    },
    {
      "cell_type": "markdown",
      "source": [
        "##O número mínimo de noites e a disponibilidade ao longo do ano interferem no preço?\n"
      ],
      "metadata": {
        "id": "892XcH62X2lP"
      }
    },
    {
      "cell_type": "markdown",
      "source": [
        "Sim, o número mínimo de noites e a disponibilidade ao longo do ano interferem no preço, mas de maneiras específicas.\n",
        "\n",
        "- Número mínimo de noites: O teste de hipótese realizado anteriormente na seção \"Teste de hipóteses\", subseção \"Impacto do número mínimo de noites nos preços\" pode avaliar a influência do número mínimo de noites no preço e revelou que imóveis que exigem estadias mais longas (mais de 5 noites) apresentam preços médios ligeiramente mais altos do que os imóveis que permitem estadias curtas. O valor-p obtido foi extremamente baixo (p = 0.0000), o que indica que a diferença nos preços é estatisticamente significativa. No entanto, a diferença nas médias de preços (127,93 dólares para estadias longas e 122,33 dólares para estadias curtas) é pequena, sugerindo que, apesar da significância estatística, a diferença prática no preço não é grande. Isso reforça a ideia de que, embora o número mínimo de noites tenha um efeito sobre o preço, outros fatores também podem influenciar o valor dos imóveis.\n",
        "\n",
        "- Taxa de ocupação anual: A correlação entre a taxa de ocupação anual e o preço do imóvel também foi analisada anteriormente na seção \"Teste de hipóteses\", subseção \"Relação entre taxa de ocupação anual e preço\". O coeficiente de Spearman foi -0.0520, indicando uma correlação fraca e negativa entre essas variáveis. Embora a relação seja estatisticamente significativa (valor-p = 0.0000), a correlação é tão fraca que sugere que imóveis com maior taxa de ocupação tendem a ter preços ligeiramente mais baixos. Isso pode ocorrer porque imóveis mais baratos atraem mais inquilinos, o que aumenta a ocupação, mas limita o preço cobrado. Vale ressaltar que a taxa de ocupação anual é inversamente correlacionada com a disponibilidade anual dos imóveis. Quanto menor a disponibilidade do imóvel ao longo do ano, maior a taxa de ocupação, e vice-versa. Ou seja, imóveis com maior disponibilidade durante o ano tendem a ter uma menor taxa de ocupação, enquanto aqueles com menor disponibilidade acabam sendo mais ocupados. Isso implica que essas duas variáveis têm uma relação direta e perfeitamente inversa sendo válida para analisar a disponibilidade anual."
      ],
      "metadata": {
        "id": "Bgmja3YpmeNn"
      }
    },
    {
      "cell_type": "markdown",
      "source": [
        "##Existe algum padrão no texto do nome do local para lugares de mais alto valor?"
      ],
      "metadata": {
        "id": "VQBwHv7tov9v"
      }
    },
    {
      "cell_type": "code",
      "source": [
        "preco_25_porcento = df['price'].quantile(0.75)\n",
        "imoveis_alto_valor = df[df['price'] > preco_25_porcento]\n",
        "\n",
        "imoveis_alto_valor = imoveis_alto_valor[imoveis_alto_valor['nome'].notna()]\n",
        "imoveis_alto_valor = imoveis_alto_valor[imoveis_alto_valor['nome'].apply(lambda x: isinstance(x, str))]\n",
        "\n",
        "nomes_divididos = imoveis_alto_valor['nome'].str.split()\n",
        "\n",
        "todas_as_palavras = [palavra.lower() for nome in nomes_divididos for palavra in nome]\n",
        "\n",
        "stop_words = {'in', 'of', 'the', 'a', 'an', 'and', 'on', 'at', 'to', 'for', 'with', 'by', '1', '2', '|', '&', '1br', 'bedroom'}\n",
        "\n",
        "todas_as_palavras_filtradas = [palavra for palavra in todas_as_palavras if palavra not in stop_words]\n",
        "\n",
        "frequencia_palavras = Counter(todas_as_palavras_filtradas)\n",
        "\n",
        "palavras_comum = frequencia_palavras.most_common(10)\n",
        "\n",
        "for palavra, frequencia in palavras_comum:\n",
        "    print(f'{palavra}: {frequencia}')"
      ],
      "metadata": {
        "colab": {
          "base_uri": "https://localhost:8080/"
        },
        "id": "ygP8hz-Bo5W_",
        "outputId": "d65d6550-5fc4-49b7-df8f-cc9e3d4b48ab"
      },
      "execution_count": 26,
      "outputs": [
        {
          "output_type": "stream",
          "name": "stdout",
          "text": [
            "apartment: 1724\n",
            "apt: 1132\n",
            "studio: 1074\n",
            "east: 1028\n",
            "village: 972\n",
            "spacious: 786\n",
            "luxury: 750\n",
            "west: 730\n",
            "park: 729\n",
            "manhattan: 600\n"
          ]
        }
      ]
    },
    {
      "cell_type": "markdown",
      "source": [
        "Com base na análise realizada utilizando os 25% mais caros como critério para identificar lugares de alto valor, foram identificados padrões claros nos textos dos nomes desses locais. Termos como \"apartment\" (1724 ocorrências), \"apt\" (1132) e \"studio\" (1074) destacam a predominância de imóveis residenciais com estrutura de cômodos completa, enquanto palavras como \"luxury\" (750) e \"spacious\" (786) indicam características associadas ao conforto, sofisticação e exclusividade.\n",
        "\n",
        "Nas referências geográficas, termos como \"east\" (1028), \"west\" (730), \"village\" (972) e \"manhattan\" (600) sugerem uma forte valorização de regiões específicas de Nova York. Em particular, a presença de \"manhattan\" como um dos termos mais frequentes evidencia a concentração de imóveis de maior valor nessa área altamente desejada. Além disso, a menção recorrente de \"park\" (729) está provavelmente relacionada à proximidade do Central Park, um dos marcos mais icônicos da cidade e frequentemente associado a imóveis premium.\n",
        "\n",
        "Essas repetições mostram que há, sim, um padrão no texto do nome do local para lugares de mais alto valor."
      ],
      "metadata": {
        "id": "RZ81IUkVtL30"
      }
    },
    {
      "cell_type": "markdown",
      "source": [
        "# 3 - Modelos de previsão"
      ],
      "metadata": {
        "id": "JY5-z2leubyk"
      }
    },
    {
      "cell_type": "markdown",
      "source": [
        "### Random Forest Regressor"
      ],
      "metadata": {
        "id": "fnlzCNPO6zgq"
      }
    },
    {
      "cell_type": "code",
      "source": [
        "X = df.drop(columns=['id', 'nome', 'host_id', 'host_name', 'price', 'ultima_review'])\n",
        "X = pd.get_dummies(X, drop_first=True)\n",
        "y = df['price']\n",
        "\n",
        "scaler = StandardScaler()\n",
        "X_scaled = scaler.fit_transform(X)\n",
        "\n",
        "X_train, X_test, y_train, y_test = train_test_split(X_scaled, y, test_size=0.2, random_state=42)\n",
        "\n",
        "rf = RandomForestRegressor(n_estimators=150, random_state=42)\n",
        "\n",
        "rf.fit(X_train, y_train)"
      ],
      "metadata": {
        "colab": {
          "base_uri": "https://localhost:8080/",
          "height": 80
        },
        "id": "vYmNsKivyOBD",
        "outputId": "11b0dccf-bbbb-4d42-bfd1-dd8cf457c29e",
        "collapsed": true
      },
      "execution_count": 43,
      "outputs": [
        {
          "output_type": "execute_result",
          "data": {
            "text/plain": [
              "RandomForestRegressor(n_estimators=150, random_state=42)"
            ],
            "text/html": [
              "<style>#sk-container-id-1 {\n",
              "  /* Definition of color scheme common for light and dark mode */\n",
              "  --sklearn-color-text: #000;\n",
              "  --sklearn-color-text-muted: #666;\n",
              "  --sklearn-color-line: gray;\n",
              "  /* Definition of color scheme for unfitted estimators */\n",
              "  --sklearn-color-unfitted-level-0: #fff5e6;\n",
              "  --sklearn-color-unfitted-level-1: #f6e4d2;\n",
              "  --sklearn-color-unfitted-level-2: #ffe0b3;\n",
              "  --sklearn-color-unfitted-level-3: chocolate;\n",
              "  /* Definition of color scheme for fitted estimators */\n",
              "  --sklearn-color-fitted-level-0: #f0f8ff;\n",
              "  --sklearn-color-fitted-level-1: #d4ebff;\n",
              "  --sklearn-color-fitted-level-2: #b3dbfd;\n",
              "  --sklearn-color-fitted-level-3: cornflowerblue;\n",
              "\n",
              "  /* Specific color for light theme */\n",
              "  --sklearn-color-text-on-default-background: var(--sg-text-color, var(--theme-code-foreground, var(--jp-content-font-color1, black)));\n",
              "  --sklearn-color-background: var(--sg-background-color, var(--theme-background, var(--jp-layout-color0, white)));\n",
              "  --sklearn-color-border-box: var(--sg-text-color, var(--theme-code-foreground, var(--jp-content-font-color1, black)));\n",
              "  --sklearn-color-icon: #696969;\n",
              "\n",
              "  @media (prefers-color-scheme: dark) {\n",
              "    /* Redefinition of color scheme for dark theme */\n",
              "    --sklearn-color-text-on-default-background: var(--sg-text-color, var(--theme-code-foreground, var(--jp-content-font-color1, white)));\n",
              "    --sklearn-color-background: var(--sg-background-color, var(--theme-background, var(--jp-layout-color0, #111)));\n",
              "    --sklearn-color-border-box: var(--sg-text-color, var(--theme-code-foreground, var(--jp-content-font-color1, white)));\n",
              "    --sklearn-color-icon: #878787;\n",
              "  }\n",
              "}\n",
              "\n",
              "#sk-container-id-1 {\n",
              "  color: var(--sklearn-color-text);\n",
              "}\n",
              "\n",
              "#sk-container-id-1 pre {\n",
              "  padding: 0;\n",
              "}\n",
              "\n",
              "#sk-container-id-1 input.sk-hidden--visually {\n",
              "  border: 0;\n",
              "  clip: rect(1px 1px 1px 1px);\n",
              "  clip: rect(1px, 1px, 1px, 1px);\n",
              "  height: 1px;\n",
              "  margin: -1px;\n",
              "  overflow: hidden;\n",
              "  padding: 0;\n",
              "  position: absolute;\n",
              "  width: 1px;\n",
              "}\n",
              "\n",
              "#sk-container-id-1 div.sk-dashed-wrapped {\n",
              "  border: 1px dashed var(--sklearn-color-line);\n",
              "  margin: 0 0.4em 0.5em 0.4em;\n",
              "  box-sizing: border-box;\n",
              "  padding-bottom: 0.4em;\n",
              "  background-color: var(--sklearn-color-background);\n",
              "}\n",
              "\n",
              "#sk-container-id-1 div.sk-container {\n",
              "  /* jupyter's `normalize.less` sets `[hidden] { display: none; }`\n",
              "     but bootstrap.min.css set `[hidden] { display: none !important; }`\n",
              "     so we also need the `!important` here to be able to override the\n",
              "     default hidden behavior on the sphinx rendered scikit-learn.org.\n",
              "     See: https://github.com/scikit-learn/scikit-learn/issues/21755 */\n",
              "  display: inline-block !important;\n",
              "  position: relative;\n",
              "}\n",
              "\n",
              "#sk-container-id-1 div.sk-text-repr-fallback {\n",
              "  display: none;\n",
              "}\n",
              "\n",
              "div.sk-parallel-item,\n",
              "div.sk-serial,\n",
              "div.sk-item {\n",
              "  /* draw centered vertical line to link estimators */\n",
              "  background-image: linear-gradient(var(--sklearn-color-text-on-default-background), var(--sklearn-color-text-on-default-background));\n",
              "  background-size: 2px 100%;\n",
              "  background-repeat: no-repeat;\n",
              "  background-position: center center;\n",
              "}\n",
              "\n",
              "/* Parallel-specific style estimator block */\n",
              "\n",
              "#sk-container-id-1 div.sk-parallel-item::after {\n",
              "  content: \"\";\n",
              "  width: 100%;\n",
              "  border-bottom: 2px solid var(--sklearn-color-text-on-default-background);\n",
              "  flex-grow: 1;\n",
              "}\n",
              "\n",
              "#sk-container-id-1 div.sk-parallel {\n",
              "  display: flex;\n",
              "  align-items: stretch;\n",
              "  justify-content: center;\n",
              "  background-color: var(--sklearn-color-background);\n",
              "  position: relative;\n",
              "}\n",
              "\n",
              "#sk-container-id-1 div.sk-parallel-item {\n",
              "  display: flex;\n",
              "  flex-direction: column;\n",
              "}\n",
              "\n",
              "#sk-container-id-1 div.sk-parallel-item:first-child::after {\n",
              "  align-self: flex-end;\n",
              "  width: 50%;\n",
              "}\n",
              "\n",
              "#sk-container-id-1 div.sk-parallel-item:last-child::after {\n",
              "  align-self: flex-start;\n",
              "  width: 50%;\n",
              "}\n",
              "\n",
              "#sk-container-id-1 div.sk-parallel-item:only-child::after {\n",
              "  width: 0;\n",
              "}\n",
              "\n",
              "/* Serial-specific style estimator block */\n",
              "\n",
              "#sk-container-id-1 div.sk-serial {\n",
              "  display: flex;\n",
              "  flex-direction: column;\n",
              "  align-items: center;\n",
              "  background-color: var(--sklearn-color-background);\n",
              "  padding-right: 1em;\n",
              "  padding-left: 1em;\n",
              "}\n",
              "\n",
              "\n",
              "/* Toggleable style: style used for estimator/Pipeline/ColumnTransformer box that is\n",
              "clickable and can be expanded/collapsed.\n",
              "- Pipeline and ColumnTransformer use this feature and define the default style\n",
              "- Estimators will overwrite some part of the style using the `sk-estimator` class\n",
              "*/\n",
              "\n",
              "/* Pipeline and ColumnTransformer style (default) */\n",
              "\n",
              "#sk-container-id-1 div.sk-toggleable {\n",
              "  /* Default theme specific background. It is overwritten whether we have a\n",
              "  specific estimator or a Pipeline/ColumnTransformer */\n",
              "  background-color: var(--sklearn-color-background);\n",
              "}\n",
              "\n",
              "/* Toggleable label */\n",
              "#sk-container-id-1 label.sk-toggleable__label {\n",
              "  cursor: pointer;\n",
              "  display: flex;\n",
              "  width: 100%;\n",
              "  margin-bottom: 0;\n",
              "  padding: 0.5em;\n",
              "  box-sizing: border-box;\n",
              "  text-align: center;\n",
              "  align-items: start;\n",
              "  justify-content: space-between;\n",
              "  gap: 0.5em;\n",
              "}\n",
              "\n",
              "#sk-container-id-1 label.sk-toggleable__label .caption {\n",
              "  font-size: 0.6rem;\n",
              "  font-weight: lighter;\n",
              "  color: var(--sklearn-color-text-muted);\n",
              "}\n",
              "\n",
              "#sk-container-id-1 label.sk-toggleable__label-arrow:before {\n",
              "  /* Arrow on the left of the label */\n",
              "  content: \"▸\";\n",
              "  float: left;\n",
              "  margin-right: 0.25em;\n",
              "  color: var(--sklearn-color-icon);\n",
              "}\n",
              "\n",
              "#sk-container-id-1 label.sk-toggleable__label-arrow:hover:before {\n",
              "  color: var(--sklearn-color-text);\n",
              "}\n",
              "\n",
              "/* Toggleable content - dropdown */\n",
              "\n",
              "#sk-container-id-1 div.sk-toggleable__content {\n",
              "  max-height: 0;\n",
              "  max-width: 0;\n",
              "  overflow: hidden;\n",
              "  text-align: left;\n",
              "  /* unfitted */\n",
              "  background-color: var(--sklearn-color-unfitted-level-0);\n",
              "}\n",
              "\n",
              "#sk-container-id-1 div.sk-toggleable__content.fitted {\n",
              "  /* fitted */\n",
              "  background-color: var(--sklearn-color-fitted-level-0);\n",
              "}\n",
              "\n",
              "#sk-container-id-1 div.sk-toggleable__content pre {\n",
              "  margin: 0.2em;\n",
              "  border-radius: 0.25em;\n",
              "  color: var(--sklearn-color-text);\n",
              "  /* unfitted */\n",
              "  background-color: var(--sklearn-color-unfitted-level-0);\n",
              "}\n",
              "\n",
              "#sk-container-id-1 div.sk-toggleable__content.fitted pre {\n",
              "  /* unfitted */\n",
              "  background-color: var(--sklearn-color-fitted-level-0);\n",
              "}\n",
              "\n",
              "#sk-container-id-1 input.sk-toggleable__control:checked~div.sk-toggleable__content {\n",
              "  /* Expand drop-down */\n",
              "  max-height: 200px;\n",
              "  max-width: 100%;\n",
              "  overflow: auto;\n",
              "}\n",
              "\n",
              "#sk-container-id-1 input.sk-toggleable__control:checked~label.sk-toggleable__label-arrow:before {\n",
              "  content: \"▾\";\n",
              "}\n",
              "\n",
              "/* Pipeline/ColumnTransformer-specific style */\n",
              "\n",
              "#sk-container-id-1 div.sk-label input.sk-toggleable__control:checked~label.sk-toggleable__label {\n",
              "  color: var(--sklearn-color-text);\n",
              "  background-color: var(--sklearn-color-unfitted-level-2);\n",
              "}\n",
              "\n",
              "#sk-container-id-1 div.sk-label.fitted input.sk-toggleable__control:checked~label.sk-toggleable__label {\n",
              "  background-color: var(--sklearn-color-fitted-level-2);\n",
              "}\n",
              "\n",
              "/* Estimator-specific style */\n",
              "\n",
              "/* Colorize estimator box */\n",
              "#sk-container-id-1 div.sk-estimator input.sk-toggleable__control:checked~label.sk-toggleable__label {\n",
              "  /* unfitted */\n",
              "  background-color: var(--sklearn-color-unfitted-level-2);\n",
              "}\n",
              "\n",
              "#sk-container-id-1 div.sk-estimator.fitted input.sk-toggleable__control:checked~label.sk-toggleable__label {\n",
              "  /* fitted */\n",
              "  background-color: var(--sklearn-color-fitted-level-2);\n",
              "}\n",
              "\n",
              "#sk-container-id-1 div.sk-label label.sk-toggleable__label,\n",
              "#sk-container-id-1 div.sk-label label {\n",
              "  /* The background is the default theme color */\n",
              "  color: var(--sklearn-color-text-on-default-background);\n",
              "}\n",
              "\n",
              "/* On hover, darken the color of the background */\n",
              "#sk-container-id-1 div.sk-label:hover label.sk-toggleable__label {\n",
              "  color: var(--sklearn-color-text);\n",
              "  background-color: var(--sklearn-color-unfitted-level-2);\n",
              "}\n",
              "\n",
              "/* Label box, darken color on hover, fitted */\n",
              "#sk-container-id-1 div.sk-label.fitted:hover label.sk-toggleable__label.fitted {\n",
              "  color: var(--sklearn-color-text);\n",
              "  background-color: var(--sklearn-color-fitted-level-2);\n",
              "}\n",
              "\n",
              "/* Estimator label */\n",
              "\n",
              "#sk-container-id-1 div.sk-label label {\n",
              "  font-family: monospace;\n",
              "  font-weight: bold;\n",
              "  display: inline-block;\n",
              "  line-height: 1.2em;\n",
              "}\n",
              "\n",
              "#sk-container-id-1 div.sk-label-container {\n",
              "  text-align: center;\n",
              "}\n",
              "\n",
              "/* Estimator-specific */\n",
              "#sk-container-id-1 div.sk-estimator {\n",
              "  font-family: monospace;\n",
              "  border: 1px dotted var(--sklearn-color-border-box);\n",
              "  border-radius: 0.25em;\n",
              "  box-sizing: border-box;\n",
              "  margin-bottom: 0.5em;\n",
              "  /* unfitted */\n",
              "  background-color: var(--sklearn-color-unfitted-level-0);\n",
              "}\n",
              "\n",
              "#sk-container-id-1 div.sk-estimator.fitted {\n",
              "  /* fitted */\n",
              "  background-color: var(--sklearn-color-fitted-level-0);\n",
              "}\n",
              "\n",
              "/* on hover */\n",
              "#sk-container-id-1 div.sk-estimator:hover {\n",
              "  /* unfitted */\n",
              "  background-color: var(--sklearn-color-unfitted-level-2);\n",
              "}\n",
              "\n",
              "#sk-container-id-1 div.sk-estimator.fitted:hover {\n",
              "  /* fitted */\n",
              "  background-color: var(--sklearn-color-fitted-level-2);\n",
              "}\n",
              "\n",
              "/* Specification for estimator info (e.g. \"i\" and \"?\") */\n",
              "\n",
              "/* Common style for \"i\" and \"?\" */\n",
              "\n",
              ".sk-estimator-doc-link,\n",
              "a:link.sk-estimator-doc-link,\n",
              "a:visited.sk-estimator-doc-link {\n",
              "  float: right;\n",
              "  font-size: smaller;\n",
              "  line-height: 1em;\n",
              "  font-family: monospace;\n",
              "  background-color: var(--sklearn-color-background);\n",
              "  border-radius: 1em;\n",
              "  height: 1em;\n",
              "  width: 1em;\n",
              "  text-decoration: none !important;\n",
              "  margin-left: 0.5em;\n",
              "  text-align: center;\n",
              "  /* unfitted */\n",
              "  border: var(--sklearn-color-unfitted-level-1) 1pt solid;\n",
              "  color: var(--sklearn-color-unfitted-level-1);\n",
              "}\n",
              "\n",
              ".sk-estimator-doc-link.fitted,\n",
              "a:link.sk-estimator-doc-link.fitted,\n",
              "a:visited.sk-estimator-doc-link.fitted {\n",
              "  /* fitted */\n",
              "  border: var(--sklearn-color-fitted-level-1) 1pt solid;\n",
              "  color: var(--sklearn-color-fitted-level-1);\n",
              "}\n",
              "\n",
              "/* On hover */\n",
              "div.sk-estimator:hover .sk-estimator-doc-link:hover,\n",
              ".sk-estimator-doc-link:hover,\n",
              "div.sk-label-container:hover .sk-estimator-doc-link:hover,\n",
              ".sk-estimator-doc-link:hover {\n",
              "  /* unfitted */\n",
              "  background-color: var(--sklearn-color-unfitted-level-3);\n",
              "  color: var(--sklearn-color-background);\n",
              "  text-decoration: none;\n",
              "}\n",
              "\n",
              "div.sk-estimator.fitted:hover .sk-estimator-doc-link.fitted:hover,\n",
              ".sk-estimator-doc-link.fitted:hover,\n",
              "div.sk-label-container:hover .sk-estimator-doc-link.fitted:hover,\n",
              ".sk-estimator-doc-link.fitted:hover {\n",
              "  /* fitted */\n",
              "  background-color: var(--sklearn-color-fitted-level-3);\n",
              "  color: var(--sklearn-color-background);\n",
              "  text-decoration: none;\n",
              "}\n",
              "\n",
              "/* Span, style for the box shown on hovering the info icon */\n",
              ".sk-estimator-doc-link span {\n",
              "  display: none;\n",
              "  z-index: 9999;\n",
              "  position: relative;\n",
              "  font-weight: normal;\n",
              "  right: .2ex;\n",
              "  padding: .5ex;\n",
              "  margin: .5ex;\n",
              "  width: min-content;\n",
              "  min-width: 20ex;\n",
              "  max-width: 50ex;\n",
              "  color: var(--sklearn-color-text);\n",
              "  box-shadow: 2pt 2pt 4pt #999;\n",
              "  /* unfitted */\n",
              "  background: var(--sklearn-color-unfitted-level-0);\n",
              "  border: .5pt solid var(--sklearn-color-unfitted-level-3);\n",
              "}\n",
              "\n",
              ".sk-estimator-doc-link.fitted span {\n",
              "  /* fitted */\n",
              "  background: var(--sklearn-color-fitted-level-0);\n",
              "  border: var(--sklearn-color-fitted-level-3);\n",
              "}\n",
              "\n",
              ".sk-estimator-doc-link:hover span {\n",
              "  display: block;\n",
              "}\n",
              "\n",
              "/* \"?\"-specific style due to the `<a>` HTML tag */\n",
              "\n",
              "#sk-container-id-1 a.estimator_doc_link {\n",
              "  float: right;\n",
              "  font-size: 1rem;\n",
              "  line-height: 1em;\n",
              "  font-family: monospace;\n",
              "  background-color: var(--sklearn-color-background);\n",
              "  border-radius: 1rem;\n",
              "  height: 1rem;\n",
              "  width: 1rem;\n",
              "  text-decoration: none;\n",
              "  /* unfitted */\n",
              "  color: var(--sklearn-color-unfitted-level-1);\n",
              "  border: var(--sklearn-color-unfitted-level-1) 1pt solid;\n",
              "}\n",
              "\n",
              "#sk-container-id-1 a.estimator_doc_link.fitted {\n",
              "  /* fitted */\n",
              "  border: var(--sklearn-color-fitted-level-1) 1pt solid;\n",
              "  color: var(--sklearn-color-fitted-level-1);\n",
              "}\n",
              "\n",
              "/* On hover */\n",
              "#sk-container-id-1 a.estimator_doc_link:hover {\n",
              "  /* unfitted */\n",
              "  background-color: var(--sklearn-color-unfitted-level-3);\n",
              "  color: var(--sklearn-color-background);\n",
              "  text-decoration: none;\n",
              "}\n",
              "\n",
              "#sk-container-id-1 a.estimator_doc_link.fitted:hover {\n",
              "  /* fitted */\n",
              "  background-color: var(--sklearn-color-fitted-level-3);\n",
              "}\n",
              "</style><div id=\"sk-container-id-1\" class=\"sk-top-container\"><div class=\"sk-text-repr-fallback\"><pre>RandomForestRegressor(n_estimators=150, random_state=42)</pre><b>In a Jupyter environment, please rerun this cell to show the HTML representation or trust the notebook. <br />On GitHub, the HTML representation is unable to render, please try loading this page with nbviewer.org.</b></div><div class=\"sk-container\" hidden><div class=\"sk-item\"><div class=\"sk-estimator fitted sk-toggleable\"><input class=\"sk-toggleable__control sk-hidden--visually\" id=\"sk-estimator-id-1\" type=\"checkbox\" checked><label for=\"sk-estimator-id-1\" class=\"sk-toggleable__label fitted sk-toggleable__label-arrow\"><div><div>RandomForestRegressor</div></div><div><a class=\"sk-estimator-doc-link fitted\" rel=\"noreferrer\" target=\"_blank\" href=\"https://scikit-learn.org/1.6/modules/generated/sklearn.ensemble.RandomForestRegressor.html\">?<span>Documentation for RandomForestRegressor</span></a><span class=\"sk-estimator-doc-link fitted\">i<span>Fitted</span></span></div></label><div class=\"sk-toggleable__content fitted\"><pre>RandomForestRegressor(n_estimators=150, random_state=42)</pre></div> </div></div></div></div>"
            ]
          },
          "metadata": {},
          "execution_count": 43
        }
      ]
    },
    {
      "cell_type": "code",
      "source": [
        "with open(\"random_forest.pkl\", \"wb\") as f:\n",
        "    pickle.dump(rf, f)"
      ],
      "metadata": {
        "id": "skmAEIG8k9QX"
      },
      "execution_count": 44,
      "outputs": []
    },
    {
      "cell_type": "code",
      "source": [
        "with open(\"random_forest.pkl\", \"rb\") as f:\n",
        "    loaded_rf_model = pickle.load(f)\n",
        "\n",
        "y_pred = loaded_rf_model.predict(X_test)\n",
        "rmse = np.sqrt(mean_squared_error(y_test, y_pred))\n",
        "r2= r2_score(y_test, y_pred)\n",
        "mape = mean_absolute_percentage_error(y_test, y_pred) * 100\n",
        "\n",
        "print(f'RMSE: {rmse}')\n",
        "print(f'R²: {r2}')\n",
        "print(f'MAPE: {mape}%')"
      ],
      "metadata": {
        "colab": {
          "base_uri": "https://localhost:8080/"
        },
        "id": "fz_XA--HkdnN",
        "outputId": "1a114832-dfcb-446a-ffbb-aaa17d1bdbdb"
      },
      "execution_count": 45,
      "outputs": [
        {
          "output_type": "stream",
          "name": "stdout",
          "text": [
            "RMSE: 47.49621415065279\n",
            "R²: 0.577207149093655\n",
            "MAPE: 30.254922794675483%\n"
          ]
        }
      ]
    },
    {
      "cell_type": "markdown",
      "source": [
        "O modelo utilizado é o Random Forest Regressor, uma técnica de aprendizado de máquina baseada na construção de várias árvores de decisão. Esse modelo foi escolhido para teste por sua robustez e capacidade de lidar bem com dados complexos e não-lineares, como no caso da previsão de preços de imóveis. Este é um problema de regressão, pois estamos tentando prever um valor contínuo, que é o preço dos imóveis. A regressão é adequada para esse tipo de problema, em que o objetivo é estimar um número real, e não classificar em categorias discretas, como no caso da classificação.\n",
        "\n",
        "O modelo foi treinado utilizando variáveis numéricas e categóricas. A variável preço do imóvel foi definida como o alvo (y), enquanto outras variáveis, como características do imóvel, localização e número de avaliações, foram usadas como variáveis preditoras (X). Além disso, foi aplicada a normalização das variáveis para padronizar os dados e melhorar o desempenho do modelo, especialmente em casos de variáveis com diferentes escalas.\n",
        "\n",
        "As métricas fornecem uma boa visão sobre o desempenho do modelo. O RMSE (Root Mean Squared Error) indica a magnitude dos erros em unidades monetárias, sendo que um valor menor é desejado. O R² mostra a capacidade do modelo de explicar a variação dos dados, quanto mais próximo de 1, melhor o modelo. No caso, um R² de 0.577 sugere que o modelo tem um desempenho razoável, explicando cerca de 57.7% da variabilidade dos preços. O MAPE (Mean Absolute Percentage Error) indica a precisão do modelo em termos percentuais. Com um valor de aproximadamente 30.25%, o modelo está errando em média 30.25% do preço real, um erro considerável, mas ainda assim razoável para esse tipo de problema."
      ],
      "metadata": {
        "id": "mM_Cp6UV6vHM"
      }
    },
    {
      "cell_type": "markdown",
      "source": [
        "### RNA"
      ],
      "metadata": {
        "id": "VR4u1exU8G74"
      }
    },
    {
      "cell_type": "code",
      "source": [
        "X = df.drop(columns=['id', 'nome', 'host_id', 'host_name', 'price', 'ultima_review'])\n",
        "X = pd.get_dummies(X, drop_first=True)\n",
        "y = df['price']\n",
        "\n",
        "scaler = StandardScaler()\n",
        "X_scaled = scaler.fit_transform(X)\n",
        "\n",
        "X_train, X_test, y_train, y_test = train_test_split(X_scaled, y, test_size=0.2, random_state=42)\n",
        "\n",
        "model = Sequential()\n",
        "\n",
        "model.add(Dense(units=64, activation='relu', input_dim=X_train.shape[1]))\n",
        "model.add(Dense(units=32, activation='relu'))\n",
        "model.add(Dense(units=1))\n",
        "\n",
        "model.compile(optimizer=Adam(), loss='mean_squared_error')\n",
        "\n",
        "model.fit(X_train, y_train, epochs=100, batch_size=32, validation_data=(X_test, y_test))\n",
        "\n",
        "model.save(\"neural.h5\")"
      ],
      "metadata": {
        "colab": {
          "base_uri": "https://localhost:8080/"
        },
        "id": "sOStnSQw_Bd8",
        "outputId": "bfbe41ed-edab-4980-a5f6-f714eea54f26",
        "collapsed": true
      },
      "execution_count": 46,
      "outputs": [
        {
          "output_type": "stream",
          "name": "stdout",
          "text": [
            "Epoch 1/100\n"
          ]
        },
        {
          "output_type": "stream",
          "name": "stderr",
          "text": [
            "/usr/local/lib/python3.11/dist-packages/keras/src/layers/core/dense.py:87: UserWarning: Do not pass an `input_shape`/`input_dim` argument to a layer. When using Sequential models, prefer using an `Input(shape)` object as the first layer in the model instead.\n",
            "  super().__init__(activity_regularizer=activity_regularizer, **kwargs)\n"
          ]
        },
        {
          "output_type": "stream",
          "name": "stdout",
          "text": [
            "\u001b[1m1145/1145\u001b[0m \u001b[32m━━━━━━━━━━━━━━━━━━━━\u001b[0m\u001b[37m\u001b[0m \u001b[1m8s\u001b[0m 5ms/step - loss: 8226.5293 - val_loss: 2513.8662\n",
            "Epoch 2/100\n",
            "\u001b[1m1145/1145\u001b[0m \u001b[32m━━━━━━━━━━━━━━━━━━━━\u001b[0m\u001b[37m\u001b[0m \u001b[1m7s\u001b[0m 3ms/step - loss: 2554.7585 - val_loss: 2474.6260\n",
            "Epoch 3/100\n",
            "\u001b[1m1145/1145\u001b[0m \u001b[32m━━━━━━━━━━━━━━━━━━━━\u001b[0m\u001b[37m\u001b[0m \u001b[1m8s\u001b[0m 5ms/step - loss: 2483.9578 - val_loss: 2500.3572\n",
            "Epoch 4/100\n",
            "\u001b[1m1145/1145\u001b[0m \u001b[32m━━━━━━━━━━━━━━━━━━━━\u001b[0m\u001b[37m\u001b[0m \u001b[1m5s\u001b[0m 4ms/step - loss: 2443.2031 - val_loss: 2444.9556\n",
            "Epoch 5/100\n",
            "\u001b[1m1145/1145\u001b[0m \u001b[32m━━━━━━━━━━━━━━━━━━━━\u001b[0m\u001b[37m\u001b[0m \u001b[1m5s\u001b[0m 4ms/step - loss: 2425.1956 - val_loss: 2441.0754\n",
            "Epoch 6/100\n",
            "\u001b[1m1145/1145\u001b[0m \u001b[32m━━━━━━━━━━━━━━━━━━━━\u001b[0m\u001b[37m\u001b[0m \u001b[1m5s\u001b[0m 5ms/step - loss: 2413.4766 - val_loss: 2459.8635\n",
            "Epoch 7/100\n",
            "\u001b[1m1145/1145\u001b[0m \u001b[32m━━━━━━━━━━━━━━━━━━━━\u001b[0m\u001b[37m\u001b[0m \u001b[1m9s\u001b[0m 4ms/step - loss: 2384.4375 - val_loss: 2439.2148\n",
            "Epoch 8/100\n",
            "\u001b[1m1145/1145\u001b[0m \u001b[32m━━━━━━━━━━━━━━━━━━━━\u001b[0m\u001b[37m\u001b[0m \u001b[1m5s\u001b[0m 4ms/step - loss: 2423.8787 - val_loss: 2444.0698\n",
            "Epoch 9/100\n",
            "\u001b[1m1145/1145\u001b[0m \u001b[32m━━━━━━━━━━━━━━━━━━━━\u001b[0m\u001b[37m\u001b[0m \u001b[1m4s\u001b[0m 3ms/step - loss: 2350.6829 - val_loss: 2448.6292\n",
            "Epoch 10/100\n",
            "\u001b[1m1145/1145\u001b[0m \u001b[32m━━━━━━━━━━━━━━━━━━━━\u001b[0m\u001b[37m\u001b[0m \u001b[1m3s\u001b[0m 2ms/step - loss: 2423.5486 - val_loss: 2455.8779\n",
            "Epoch 11/100\n",
            "\u001b[1m1145/1145\u001b[0m \u001b[32m━━━━━━━━━━━━━━━━━━━━\u001b[0m\u001b[37m\u001b[0m \u001b[1m3s\u001b[0m 2ms/step - loss: 2406.4539 - val_loss: 2489.5574\n",
            "Epoch 12/100\n",
            "\u001b[1m1145/1145\u001b[0m \u001b[32m━━━━━━━━━━━━━━━━━━━━\u001b[0m\u001b[37m\u001b[0m \u001b[1m5s\u001b[0m 3ms/step - loss: 2374.8784 - val_loss: 2499.1897\n",
            "Epoch 13/100\n",
            "\u001b[1m1145/1145\u001b[0m \u001b[32m━━━━━━━━━━━━━━━━━━━━\u001b[0m\u001b[37m\u001b[0m \u001b[1m5s\u001b[0m 2ms/step - loss: 2363.2542 - val_loss: 2530.3630\n",
            "Epoch 14/100\n",
            "\u001b[1m1145/1145\u001b[0m \u001b[32m━━━━━━━━━━━━━━━━━━━━\u001b[0m\u001b[37m\u001b[0m \u001b[1m5s\u001b[0m 4ms/step - loss: 2390.2974 - val_loss: 2542.5342\n",
            "Epoch 15/100\n",
            "\u001b[1m1145/1145\u001b[0m \u001b[32m━━━━━━━━━━━━━━━━━━━━\u001b[0m\u001b[37m\u001b[0m \u001b[1m8s\u001b[0m 7ms/step - loss: 2428.5276 - val_loss: 2563.6421\n",
            "Epoch 16/100\n",
            "\u001b[1m1145/1145\u001b[0m \u001b[32m━━━━━━━━━━━━━━━━━━━━\u001b[0m\u001b[37m\u001b[0m \u001b[1m7s\u001b[0m 6ms/step - loss: 2350.7810 - val_loss: 2586.6641\n",
            "Epoch 17/100\n",
            "\u001b[1m1145/1145\u001b[0m \u001b[32m━━━━━━━━━━━━━━━━━━━━\u001b[0m\u001b[37m\u001b[0m \u001b[1m10s\u001b[0m 6ms/step - loss: 2325.1323 - val_loss: 2595.0671\n",
            "Epoch 18/100\n",
            "\u001b[1m1145/1145\u001b[0m \u001b[32m━━━━━━━━━━━━━━━━━━━━\u001b[0m\u001b[37m\u001b[0m \u001b[1m5s\u001b[0m 4ms/step - loss: 2374.9919 - val_loss: 2591.3606\n",
            "Epoch 19/100\n",
            "\u001b[1m1145/1145\u001b[0m \u001b[32m━━━━━━━━━━━━━━━━━━━━\u001b[0m\u001b[37m\u001b[0m \u001b[1m6s\u001b[0m 5ms/step - loss: 2311.3152 - val_loss: 2601.4602\n",
            "Epoch 20/100\n",
            "\u001b[1m1145/1145\u001b[0m \u001b[32m━━━━━━━━━━━━━━━━━━━━\u001b[0m\u001b[37m\u001b[0m \u001b[1m10s\u001b[0m 5ms/step - loss: 2280.5671 - val_loss: 2602.5010\n",
            "Epoch 21/100\n",
            "\u001b[1m1145/1145\u001b[0m \u001b[32m━━━━━━━━━━━━━━━━━━━━\u001b[0m\u001b[37m\u001b[0m \u001b[1m9s\u001b[0m 4ms/step - loss: 2366.2664 - val_loss: 2620.5491\n",
            "Epoch 22/100\n",
            "\u001b[1m1145/1145\u001b[0m \u001b[32m━━━━━━━━━━━━━━━━━━━━\u001b[0m\u001b[37m\u001b[0m \u001b[1m6s\u001b[0m 5ms/step - loss: 2327.4871 - val_loss: 2645.6924\n",
            "Epoch 23/100\n",
            "\u001b[1m1145/1145\u001b[0m \u001b[32m━━━━━━━━━━━━━━━━━━━━\u001b[0m\u001b[37m\u001b[0m \u001b[1m5s\u001b[0m 4ms/step - loss: 2356.5459 - val_loss: 2616.3210\n",
            "Epoch 24/100\n",
            "\u001b[1m1145/1145\u001b[0m \u001b[32m━━━━━━━━━━━━━━━━━━━━\u001b[0m\u001b[37m\u001b[0m \u001b[1m4s\u001b[0m 4ms/step - loss: 2326.6677 - val_loss: 2646.7542\n",
            "Epoch 25/100\n",
            "\u001b[1m1145/1145\u001b[0m \u001b[32m━━━━━━━━━━━━━━━━━━━━\u001b[0m\u001b[37m\u001b[0m \u001b[1m5s\u001b[0m 3ms/step - loss: 2287.3262 - val_loss: 2666.2234\n",
            "Epoch 26/100\n",
            "\u001b[1m1145/1145\u001b[0m \u001b[32m━━━━━━━━━━━━━━━━━━━━\u001b[0m\u001b[37m\u001b[0m \u001b[1m3s\u001b[0m 2ms/step - loss: 2317.3938 - val_loss: 2670.0415\n",
            "Epoch 27/100\n",
            "\u001b[1m1145/1145\u001b[0m \u001b[32m━━━━━━━━━━━━━━━━━━━━\u001b[0m\u001b[37m\u001b[0m \u001b[1m2s\u001b[0m 2ms/step - loss: 2290.6689 - val_loss: 2668.0376\n",
            "Epoch 28/100\n",
            "\u001b[1m1145/1145\u001b[0m \u001b[32m━━━━━━━━━━━━━━━━━━━━\u001b[0m\u001b[37m\u001b[0m \u001b[1m3s\u001b[0m 2ms/step - loss: 2309.5071 - val_loss: 2658.2603\n",
            "Epoch 29/100\n",
            "\u001b[1m1145/1145\u001b[0m \u001b[32m━━━━━━━━━━━━━━━━━━━━\u001b[0m\u001b[37m\u001b[0m \u001b[1m6s\u001b[0m 3ms/step - loss: 2282.2097 - val_loss: 2695.2461\n",
            "Epoch 30/100\n",
            "\u001b[1m1145/1145\u001b[0m \u001b[32m━━━━━━━━━━━━━━━━━━━━\u001b[0m\u001b[37m\u001b[0m \u001b[1m3s\u001b[0m 2ms/step - loss: 2363.2253 - val_loss: 2709.6799\n",
            "Epoch 31/100\n",
            "\u001b[1m1145/1145\u001b[0m \u001b[32m━━━━━━━━━━━━━━━━━━━━\u001b[0m\u001b[37m\u001b[0m \u001b[1m5s\u001b[0m 2ms/step - loss: 2303.4053 - val_loss: 2747.7971\n",
            "Epoch 32/100\n",
            "\u001b[1m1145/1145\u001b[0m \u001b[32m━━━━━━━━━━━━━━━━━━━━\u001b[0m\u001b[37m\u001b[0m \u001b[1m6s\u001b[0m 3ms/step - loss: 2267.9817 - val_loss: 2740.9595\n",
            "Epoch 33/100\n",
            "\u001b[1m1145/1145\u001b[0m \u001b[32m━━━━━━━━━━━━━━━━━━━━\u001b[0m\u001b[37m\u001b[0m \u001b[1m3s\u001b[0m 3ms/step - loss: 2270.5293 - val_loss: 2745.9121\n",
            "Epoch 34/100\n",
            "\u001b[1m1145/1145\u001b[0m \u001b[32m━━━━━━━━━━━━━━━━━━━━\u001b[0m\u001b[37m\u001b[0m \u001b[1m4s\u001b[0m 2ms/step - loss: 2267.5693 - val_loss: 2774.8735\n",
            "Epoch 35/100\n",
            "\u001b[1m1145/1145\u001b[0m \u001b[32m━━━━━━━━━━━━━━━━━━━━\u001b[0m\u001b[37m\u001b[0m \u001b[1m2s\u001b[0m 2ms/step - loss: 2319.0793 - val_loss: 2799.0596\n",
            "Epoch 36/100\n",
            "\u001b[1m1145/1145\u001b[0m \u001b[32m━━━━━━━━━━━━━━━━━━━━\u001b[0m\u001b[37m\u001b[0m \u001b[1m3s\u001b[0m 2ms/step - loss: 2297.5054 - val_loss: 2770.3865\n",
            "Epoch 37/100\n",
            "\u001b[1m1145/1145\u001b[0m \u001b[32m━━━━━━━━━━━━━━━━━━━━\u001b[0m\u001b[37m\u001b[0m \u001b[1m4s\u001b[0m 3ms/step - loss: 2263.0703 - val_loss: 2824.0613\n",
            "Epoch 38/100\n",
            "\u001b[1m1145/1145\u001b[0m \u001b[32m━━━━━━━━━━━━━━━━━━━━\u001b[0m\u001b[37m\u001b[0m \u001b[1m3s\u001b[0m 3ms/step - loss: 2253.0488 - val_loss: 2797.9304\n",
            "Epoch 39/100\n",
            "\u001b[1m1145/1145\u001b[0m \u001b[32m━━━━━━━━━━━━━━━━━━━━\u001b[0m\u001b[37m\u001b[0m \u001b[1m2s\u001b[0m 2ms/step - loss: 2301.9451 - val_loss: 2865.4854\n",
            "Epoch 40/100\n",
            "\u001b[1m1145/1145\u001b[0m \u001b[32m━━━━━━━━━━━━━━━━━━━━\u001b[0m\u001b[37m\u001b[0m \u001b[1m3s\u001b[0m 2ms/step - loss: 2251.0962 - val_loss: 2868.1833\n",
            "Epoch 41/100\n",
            "\u001b[1m1145/1145\u001b[0m \u001b[32m━━━━━━━━━━━━━━━━━━━━\u001b[0m\u001b[37m\u001b[0m \u001b[1m2s\u001b[0m 2ms/step - loss: 2289.3015 - val_loss: 2864.8667\n",
            "Epoch 42/100\n",
            "\u001b[1m1145/1145\u001b[0m \u001b[32m━━━━━━━━━━━━━━━━━━━━\u001b[0m\u001b[37m\u001b[0m \u001b[1m3s\u001b[0m 3ms/step - loss: 2268.9878 - val_loss: 2909.7498\n",
            "Epoch 43/100\n",
            "\u001b[1m1145/1145\u001b[0m \u001b[32m━━━━━━━━━━━━━━━━━━━━\u001b[0m\u001b[37m\u001b[0m \u001b[1m4s\u001b[0m 2ms/step - loss: 2231.1006 - val_loss: 2901.4287\n",
            "Epoch 44/100\n",
            "\u001b[1m1145/1145\u001b[0m \u001b[32m━━━━━━━━━━━━━━━━━━━━\u001b[0m\u001b[37m\u001b[0m \u001b[1m2s\u001b[0m 2ms/step - loss: 2294.6135 - val_loss: 2930.4470\n",
            "Epoch 45/100\n",
            "\u001b[1m1145/1145\u001b[0m \u001b[32m━━━━━━━━━━━━━━━━━━━━\u001b[0m\u001b[37m\u001b[0m \u001b[1m3s\u001b[0m 2ms/step - loss: 2248.1177 - val_loss: 2936.9629\n",
            "Epoch 46/100\n",
            "\u001b[1m1145/1145\u001b[0m \u001b[32m━━━━━━━━━━━━━━━━━━━━\u001b[0m\u001b[37m\u001b[0m \u001b[1m2s\u001b[0m 2ms/step - loss: 2190.3779 - val_loss: 2936.7056\n",
            "Epoch 47/100\n",
            "\u001b[1m1145/1145\u001b[0m \u001b[32m━━━━━━━━━━━━━━━━━━━━\u001b[0m\u001b[37m\u001b[0m \u001b[1m4s\u001b[0m 3ms/step - loss: 2245.2041 - val_loss: 3000.3142\n",
            "Epoch 48/100\n",
            "\u001b[1m1145/1145\u001b[0m \u001b[32m━━━━━━━━━━━━━━━━━━━━\u001b[0m\u001b[37m\u001b[0m \u001b[1m4s\u001b[0m 3ms/step - loss: 2228.6433 - val_loss: 3008.2971\n",
            "Epoch 49/100\n",
            "\u001b[1m1145/1145\u001b[0m \u001b[32m━━━━━━━━━━━━━━━━━━━━\u001b[0m\u001b[37m\u001b[0m \u001b[1m4s\u001b[0m 2ms/step - loss: 2210.7766 - val_loss: 3021.0415\n",
            "Epoch 50/100\n",
            "\u001b[1m1145/1145\u001b[0m \u001b[32m━━━━━━━━━━━━━━━━━━━━\u001b[0m\u001b[37m\u001b[0m \u001b[1m5s\u001b[0m 2ms/step - loss: 2233.1824 - val_loss: 2998.5129\n",
            "Epoch 51/100\n",
            "\u001b[1m1145/1145\u001b[0m \u001b[32m━━━━━━━━━━━━━━━━━━━━\u001b[0m\u001b[37m\u001b[0m \u001b[1m5s\u001b[0m 2ms/step - loss: 2267.2446 - val_loss: 3066.2561\n",
            "Epoch 52/100\n",
            "\u001b[1m1145/1145\u001b[0m \u001b[32m━━━━━━━━━━━━━━━━━━━━\u001b[0m\u001b[37m\u001b[0m \u001b[1m3s\u001b[0m 3ms/step - loss: 2221.2913 - val_loss: 3094.1682\n",
            "Epoch 53/100\n",
            "\u001b[1m1145/1145\u001b[0m \u001b[32m━━━━━━━━━━━━━━━━━━━━\u001b[0m\u001b[37m\u001b[0m \u001b[1m3s\u001b[0m 2ms/step - loss: 2193.5671 - val_loss: 3060.8027\n",
            "Epoch 54/100\n",
            "\u001b[1m1145/1145\u001b[0m \u001b[32m━━━━━━━━━━━━━━━━━━━━\u001b[0m\u001b[37m\u001b[0m \u001b[1m6s\u001b[0m 3ms/step - loss: 2186.8918 - val_loss: 3053.5427\n",
            "Epoch 55/100\n",
            "\u001b[1m1145/1145\u001b[0m \u001b[32m━━━━━━━━━━━━━━━━━━━━\u001b[0m\u001b[37m\u001b[0m \u001b[1m3s\u001b[0m 2ms/step - loss: 2208.3625 - val_loss: 3115.1384\n",
            "Epoch 56/100\n",
            "\u001b[1m1145/1145\u001b[0m \u001b[32m━━━━━━━━━━━━━━━━━━━━\u001b[0m\u001b[37m\u001b[0m \u001b[1m2s\u001b[0m 2ms/step - loss: 2256.1316 - val_loss: 3074.8811\n",
            "Epoch 57/100\n",
            "\u001b[1m1145/1145\u001b[0m \u001b[32m━━━━━━━━━━━━━━━━━━━━\u001b[0m\u001b[37m\u001b[0m \u001b[1m2s\u001b[0m 2ms/step - loss: 2230.3772 - val_loss: 3106.3232\n",
            "Epoch 58/100\n",
            "\u001b[1m1145/1145\u001b[0m \u001b[32m━━━━━━━━━━━━━━━━━━━━\u001b[0m\u001b[37m\u001b[0m \u001b[1m2s\u001b[0m 2ms/step - loss: 2227.3240 - val_loss: 3133.5273\n",
            "Epoch 59/100\n",
            "\u001b[1m1145/1145\u001b[0m \u001b[32m━━━━━━━━━━━━━━━━━━━━\u001b[0m\u001b[37m\u001b[0m \u001b[1m4s\u001b[0m 3ms/step - loss: 2229.5637 - val_loss: 3086.2073\n",
            "Epoch 60/100\n",
            "\u001b[1m1145/1145\u001b[0m \u001b[32m━━━━━━━━━━━━━━━━━━━━\u001b[0m\u001b[37m\u001b[0m \u001b[1m4s\u001b[0m 3ms/step - loss: 2218.4109 - val_loss: 3094.7012\n",
            "Epoch 61/100\n",
            "\u001b[1m1145/1145\u001b[0m \u001b[32m━━━━━━━━━━━━━━━━━━━━\u001b[0m\u001b[37m\u001b[0m \u001b[1m4s\u001b[0m 2ms/step - loss: 2199.9485 - val_loss: 3077.0789\n",
            "Epoch 62/100\n",
            "\u001b[1m1145/1145\u001b[0m \u001b[32m━━━━━━━━━━━━━━━━━━━━\u001b[0m\u001b[37m\u001b[0m \u001b[1m2s\u001b[0m 2ms/step - loss: 2237.4448 - val_loss: 3132.0627\n",
            "Epoch 63/100\n",
            "\u001b[1m1145/1145\u001b[0m \u001b[32m━━━━━━━━━━━━━━━━━━━━\u001b[0m\u001b[37m\u001b[0m \u001b[1m3s\u001b[0m 2ms/step - loss: 2209.1365 - val_loss: 3100.7180\n",
            "Epoch 64/100\n",
            "\u001b[1m1145/1145\u001b[0m \u001b[32m━━━━━━━━━━━━━━━━━━━━\u001b[0m\u001b[37m\u001b[0m \u001b[1m4s\u001b[0m 3ms/step - loss: 2204.6941 - val_loss: 3085.5833\n",
            "Epoch 65/100\n",
            "\u001b[1m1145/1145\u001b[0m \u001b[32m━━━━━━━━━━━━━━━━━━━━\u001b[0m\u001b[37m\u001b[0m \u001b[1m3s\u001b[0m 3ms/step - loss: 2261.1677 - val_loss: 3165.9377\n",
            "Epoch 66/100\n",
            "\u001b[1m1145/1145\u001b[0m \u001b[32m━━━━━━━━━━━━━━━━━━━━\u001b[0m\u001b[37m\u001b[0m \u001b[1m4s\u001b[0m 2ms/step - loss: 2241.4109 - val_loss: 3111.3408\n",
            "Epoch 67/100\n",
            "\u001b[1m1145/1145\u001b[0m \u001b[32m━━━━━━━━━━━━━━━━━━━━\u001b[0m\u001b[37m\u001b[0m \u001b[1m3s\u001b[0m 2ms/step - loss: 2211.1907 - val_loss: 3110.9714\n",
            "Epoch 68/100\n",
            "\u001b[1m1145/1145\u001b[0m \u001b[32m━━━━━━━━━━━━━━━━━━━━\u001b[0m\u001b[37m\u001b[0m \u001b[1m2s\u001b[0m 2ms/step - loss: 2188.8860 - val_loss: 3054.2324\n",
            "Epoch 69/100\n",
            "\u001b[1m1145/1145\u001b[0m \u001b[32m━━━━━━━━━━━━━━━━━━━━\u001b[0m\u001b[37m\u001b[0m \u001b[1m4s\u001b[0m 3ms/step - loss: 2165.4031 - val_loss: 3109.8040\n",
            "Epoch 70/100\n",
            "\u001b[1m1145/1145\u001b[0m \u001b[32m━━━━━━━━━━━━━━━━━━━━\u001b[0m\u001b[37m\u001b[0m \u001b[1m4s\u001b[0m 2ms/step - loss: 2185.5774 - val_loss: 3059.9988\n",
            "Epoch 71/100\n",
            "\u001b[1m1145/1145\u001b[0m \u001b[32m━━━━━━━━━━━━━━━━━━━━\u001b[0m\u001b[37m\u001b[0m \u001b[1m5s\u001b[0m 2ms/step - loss: 2177.9756 - val_loss: 3085.7839\n",
            "Epoch 72/100\n",
            "\u001b[1m1145/1145\u001b[0m \u001b[32m━━━━━━━━━━━━━━━━━━━━\u001b[0m\u001b[37m\u001b[0m \u001b[1m6s\u001b[0m 3ms/step - loss: 2222.7444 - val_loss: 3086.1780\n",
            "Epoch 73/100\n",
            "\u001b[1m1145/1145\u001b[0m \u001b[32m━━━━━━━━━━━━━━━━━━━━\u001b[0m\u001b[37m\u001b[0m \u001b[1m3s\u001b[0m 2ms/step - loss: 2196.7246 - val_loss: 3077.3325\n",
            "Epoch 74/100\n",
            "\u001b[1m1145/1145\u001b[0m \u001b[32m━━━━━━━━━━━━━━━━━━━━\u001b[0m\u001b[37m\u001b[0m \u001b[1m2s\u001b[0m 2ms/step - loss: 2176.1948 - val_loss: 3089.1841\n",
            "Epoch 75/100\n",
            "\u001b[1m1145/1145\u001b[0m \u001b[32m━━━━━━━━━━━━━━━━━━━━\u001b[0m\u001b[37m\u001b[0m \u001b[1m3s\u001b[0m 2ms/step - loss: 2180.2874 - val_loss: 3058.8081\n",
            "Epoch 76/100\n",
            "\u001b[1m1145/1145\u001b[0m \u001b[32m━━━━━━━━━━━━━━━━━━━━\u001b[0m\u001b[37m\u001b[0m \u001b[1m3s\u001b[0m 2ms/step - loss: 2119.8845 - val_loss: 3011.8777\n",
            "Epoch 77/100\n",
            "\u001b[1m1145/1145\u001b[0m \u001b[32m━━━━━━━━━━━━━━━━━━━━\u001b[0m\u001b[37m\u001b[0m \u001b[1m4s\u001b[0m 3ms/step - loss: 2198.3162 - val_loss: 3138.1467\n",
            "Epoch 78/100\n",
            "\u001b[1m1145/1145\u001b[0m \u001b[32m━━━━━━━━━━━━━━━━━━━━\u001b[0m\u001b[37m\u001b[0m \u001b[1m4s\u001b[0m 3ms/step - loss: 2170.0371 - val_loss: 3026.2373\n",
            "Epoch 79/100\n",
            "\u001b[1m1145/1145\u001b[0m \u001b[32m━━━━━━━━━━━━━━━━━━━━\u001b[0m\u001b[37m\u001b[0m \u001b[1m2s\u001b[0m 2ms/step - loss: 2150.1177 - val_loss: 3102.3364\n",
            "Epoch 80/100\n",
            "\u001b[1m1145/1145\u001b[0m \u001b[32m━━━━━━━━━━━━━━━━━━━━\u001b[0m\u001b[37m\u001b[0m \u001b[1m3s\u001b[0m 2ms/step - loss: 2206.0979 - val_loss: 3043.6355\n",
            "Epoch 81/100\n",
            "\u001b[1m1145/1145\u001b[0m \u001b[32m━━━━━━━━━━━━━━━━━━━━\u001b[0m\u001b[37m\u001b[0m \u001b[1m6s\u001b[0m 3ms/step - loss: 2183.6665 - val_loss: 3127.4167\n",
            "Epoch 82/100\n",
            "\u001b[1m1145/1145\u001b[0m \u001b[32m━━━━━━━━━━━━━━━━━━━━\u001b[0m\u001b[37m\u001b[0m \u001b[1m5s\u001b[0m 3ms/step - loss: 2161.0911 - val_loss: 3098.7576\n",
            "Epoch 83/100\n",
            "\u001b[1m1145/1145\u001b[0m \u001b[32m━━━━━━━━━━━━━━━━━━━━\u001b[0m\u001b[37m\u001b[0m \u001b[1m4s\u001b[0m 2ms/step - loss: 2165.6289 - val_loss: 3068.9150\n",
            "Epoch 84/100\n",
            "\u001b[1m1145/1145\u001b[0m \u001b[32m━━━━━━━━━━━━━━━━━━━━\u001b[0m\u001b[37m\u001b[0m \u001b[1m2s\u001b[0m 2ms/step - loss: 2165.8083 - val_loss: 3097.1904\n",
            "Epoch 85/100\n",
            "\u001b[1m1145/1145\u001b[0m \u001b[32m━━━━━━━━━━━━━━━━━━━━\u001b[0m\u001b[37m\u001b[0m \u001b[1m4s\u001b[0m 3ms/step - loss: 2157.9763 - val_loss: 3097.4143\n",
            "Epoch 86/100\n",
            "\u001b[1m1145/1145\u001b[0m \u001b[32m━━━━━━━━━━━━━━━━━━━━\u001b[0m\u001b[37m\u001b[0m \u001b[1m3s\u001b[0m 3ms/step - loss: 2150.1577 - val_loss: 3072.4944\n",
            "Epoch 87/100\n",
            "\u001b[1m1145/1145\u001b[0m \u001b[32m━━━━━━━━━━━━━━━━━━━━\u001b[0m\u001b[37m\u001b[0m \u001b[1m4s\u001b[0m 2ms/step - loss: 2181.7178 - val_loss: 3046.9756\n",
            "Epoch 88/100\n",
            "\u001b[1m1145/1145\u001b[0m \u001b[32m━━━━━━━━━━━━━━━━━━━━\u001b[0m\u001b[37m\u001b[0m \u001b[1m2s\u001b[0m 2ms/step - loss: 2193.3831 - val_loss: 3075.5393\n",
            "Epoch 89/100\n",
            "\u001b[1m1145/1145\u001b[0m \u001b[32m━━━━━━━━━━━━━━━━━━━━\u001b[0m\u001b[37m\u001b[0m \u001b[1m3s\u001b[0m 2ms/step - loss: 2209.4263 - val_loss: 3151.9600\n",
            "Epoch 90/100\n",
            "\u001b[1m1145/1145\u001b[0m \u001b[32m━━━━━━━━━━━━━━━━━━━━\u001b[0m\u001b[37m\u001b[0m \u001b[1m4s\u001b[0m 3ms/step - loss: 2219.3149 - val_loss: 3181.4128\n",
            "Epoch 91/100\n",
            "\u001b[1m1145/1145\u001b[0m \u001b[32m━━━━━━━━━━━━━━━━━━━━\u001b[0m\u001b[37m\u001b[0m \u001b[1m4s\u001b[0m 2ms/step - loss: 2170.3230 - val_loss: 3117.2791\n",
            "Epoch 92/100\n",
            "\u001b[1m1145/1145\u001b[0m \u001b[32m━━━━━━━━━━━━━━━━━━━━\u001b[0m\u001b[37m\u001b[0m \u001b[1m3s\u001b[0m 2ms/step - loss: 2185.4648 - val_loss: 3105.0630\n",
            "Epoch 93/100\n",
            "\u001b[1m1145/1145\u001b[0m \u001b[32m━━━━━━━━━━━━━━━━━━━━\u001b[0m\u001b[37m\u001b[0m \u001b[1m2s\u001b[0m 2ms/step - loss: 2189.2097 - val_loss: 3151.6619\n",
            "Epoch 94/100\n",
            "\u001b[1m1145/1145\u001b[0m \u001b[32m━━━━━━━━━━━━━━━━━━━━\u001b[0m\u001b[37m\u001b[0m \u001b[1m3s\u001b[0m 2ms/step - loss: 2204.4438 - val_loss: 3202.7090\n",
            "Epoch 95/100\n",
            "\u001b[1m1145/1145\u001b[0m \u001b[32m━━━━━━━━━━━━━━━━━━━━\u001b[0m\u001b[37m\u001b[0m \u001b[1m5s\u001b[0m 2ms/step - loss: 2191.7932 - val_loss: 3150.0093\n",
            "Epoch 96/100\n",
            "\u001b[1m1145/1145\u001b[0m \u001b[32m━━━━━━━━━━━━━━━━━━━━\u001b[0m\u001b[37m\u001b[0m \u001b[1m5s\u001b[0m 2ms/step - loss: 2156.8687 - val_loss: 3043.9041\n",
            "Epoch 97/100\n",
            "\u001b[1m1145/1145\u001b[0m \u001b[32m━━━━━━━━━━━━━━━━━━━━\u001b[0m\u001b[37m\u001b[0m \u001b[1m2s\u001b[0m 2ms/step - loss: 2194.0420 - val_loss: 3128.1174\n",
            "Epoch 98/100\n",
            "\u001b[1m1145/1145\u001b[0m \u001b[32m━━━━━━━━━━━━━━━━━━━━\u001b[0m\u001b[37m\u001b[0m \u001b[1m4s\u001b[0m 3ms/step - loss: 2164.8103 - val_loss: 3121.6462\n",
            "Epoch 99/100\n",
            "\u001b[1m1145/1145\u001b[0m \u001b[32m━━━━━━━━━━━━━━━━━━━━\u001b[0m\u001b[37m\u001b[0m \u001b[1m3s\u001b[0m 3ms/step - loss: 2150.5881 - val_loss: 3187.8826\n",
            "Epoch 100/100\n",
            "\u001b[1m1145/1145\u001b[0m \u001b[32m━━━━━━━━━━━━━━━━━━━━\u001b[0m\u001b[37m\u001b[0m \u001b[1m2s\u001b[0m 2ms/step - loss: 2166.1387 - val_loss: 3100.1260\n"
          ]
        },
        {
          "output_type": "stream",
          "name": "stderr",
          "text": [
            "WARNING:absl:You are saving your model as an HDF5 file via `model.save()` or `keras.saving.save_model(model)`. This file format is considered legacy. We recommend using instead the native Keras format, e.g. `model.save('my_model.keras')` or `keras.saving.save_model(model, 'my_model.keras')`. \n"
          ]
        }
      ]
    },
    {
      "cell_type": "code",
      "source": [
        "loaded_model = load_model(\"neural.h5\")\n",
        "\n",
        "y_pred = loaded_model.predict(X_test)\n",
        "\n",
        "rmse = np.sqrt(mean_squared_error(y_test, y_pred))\n",
        "r2 = r2_score(y_test, y_pred)\n",
        "mape = mean_absolute_percentage_error(y_test, y_pred) * 100\n",
        "\n",
        "print(f'RMSE: {rmse}')\n",
        "print(f'R²: {r2}')\n",
        "print(f'MAPE: {mape}%')"
      ],
      "metadata": {
        "colab": {
          "base_uri": "https://localhost:8080/"
        },
        "id": "KaMeiqRumb7x",
        "outputId": "e5916125-556c-4005-c117-50802bf14379"
      },
      "execution_count": 47,
      "outputs": [
        {
          "output_type": "stream",
          "name": "stderr",
          "text": [
            "WARNING:absl:Compiled the loaded model, but the compiled metrics have yet to be built. `model.compile_metrics` will be empty until you train or evaluate the model.\n"
          ]
        },
        {
          "output_type": "stream",
          "name": "stdout",
          "text": [
            "\u001b[1m287/287\u001b[0m \u001b[32m━━━━━━━━━━━━━━━━━━━━\u001b[0m\u001b[37m\u001b[0m \u001b[1m1s\u001b[0m 2ms/step\n",
            "RMSE: 55.67877053492875\n",
            "R²: 0.41898298263549805\n",
            "MAPE: 32.960546016693115%\n"
          ]
        }
      ]
    },
    {
      "cell_type": "markdown",
      "source": [
        "O modelo usado é uma rede neural artificial (RNA) para regressão, ou seja, um modelo de aprendizado de máquina que busca aprender uma função para prever uma variável contínua com base em variáveis independentes. O uso de uma RNA é adequado para este tipo de problema devido à sua flexibilidade e capacidade de aprender interações complexas entre as variáveis.\n",
        "\n",
        "As variáveis do modelo foram cuidadosamente escolhidas e transformadas para garantir que o modelo funcionasse adequadamente. Primeiramente, variáveis como id, nome, host_id, host_name e ultima_review foram removidas, já que essas informações não são úteis para a previsão do preço do imóvel. Além disso, variáveis categóricas, como room_type e bairro_group, foram convertidas em variáveis binárias por meio do processo de one-hot encoding, que cria novas colunas para cada categoria, permitindo que a rede neural entenda essas variáveis corretamente.\n",
        "\n",
        "A normalização das variáveis independentes foi realizada utilizando o StandardScaler, um passo importante em redes neurais, pois elas tendem a funcionar melhor quando as variáveis de entrada estão na mesma escala. Isso ajuda a evitar que uma variável com uma escala muito maior domine a aprendizagem, o que poderia prejudicar a precisão do modelo.\n",
        "\n",
        "As métricas do modelo indicam um desempenho moderado. O RMSE de 55,67 revela que, em média, o erro quadrático entre os valores previstos e reais do preço dos imóveis é 55,67 unidades, sugerindo que o modelo ainda apresenta erros consideráveis. O R² de 0,41 indica que apenas 41% da variação do preço dos imóveis é explicada pelo modelo, o que demonstra um poder preditivo limitado. Já o MAPE de 32,96% aponta que o modelo está errando, em média, cerca de 32,96% na previsão do preço, o que pode ser considerado razoável, mas ainda longe de ser ideal, especialmente para problemas de precificação sensíveis."
      ],
      "metadata": {
        "id": "2s1kxEb9CkNw"
      }
    },
    {
      "cell_type": "markdown",
      "source": [
        "### Support Vector Regression (SVR)"
      ],
      "metadata": {
        "id": "Am0LLEimDd5-"
      }
    },
    {
      "cell_type": "code",
      "source": [
        "X = df.drop(columns=['id', 'nome', 'host_id', 'host_name', 'price', 'ultima_review'])\n",
        "X = pd.get_dummies(X, drop_first=True)\n",
        "y = df['price']\n",
        "\n",
        "scaler = StandardScaler()\n",
        "X_scaled = scaler.fit_transform(X)\n",
        "\n",
        "X_train, X_test, y_train, y_test = train_test_split(X_scaled, y, test_size=0.2, random_state=42)\n",
        "\n",
        "svr = SVR(kernel='rbf')\n",
        "svr.fit(X_train, y_train)"
      ],
      "metadata": {
        "colab": {
          "base_uri": "https://localhost:8080/",
          "height": 80
        },
        "id": "yfQy2pkjFOdD",
        "outputId": "0ec6512f-884c-4395-ecc2-6967e3b67bd8",
        "collapsed": true
      },
      "execution_count": 48,
      "outputs": [
        {
          "output_type": "execute_result",
          "data": {
            "text/plain": [
              "SVR()"
            ],
            "text/html": [
              "<style>#sk-container-id-2 {\n",
              "  /* Definition of color scheme common for light and dark mode */\n",
              "  --sklearn-color-text: #000;\n",
              "  --sklearn-color-text-muted: #666;\n",
              "  --sklearn-color-line: gray;\n",
              "  /* Definition of color scheme for unfitted estimators */\n",
              "  --sklearn-color-unfitted-level-0: #fff5e6;\n",
              "  --sklearn-color-unfitted-level-1: #f6e4d2;\n",
              "  --sklearn-color-unfitted-level-2: #ffe0b3;\n",
              "  --sklearn-color-unfitted-level-3: chocolate;\n",
              "  /* Definition of color scheme for fitted estimators */\n",
              "  --sklearn-color-fitted-level-0: #f0f8ff;\n",
              "  --sklearn-color-fitted-level-1: #d4ebff;\n",
              "  --sklearn-color-fitted-level-2: #b3dbfd;\n",
              "  --sklearn-color-fitted-level-3: cornflowerblue;\n",
              "\n",
              "  /* Specific color for light theme */\n",
              "  --sklearn-color-text-on-default-background: var(--sg-text-color, var(--theme-code-foreground, var(--jp-content-font-color1, black)));\n",
              "  --sklearn-color-background: var(--sg-background-color, var(--theme-background, var(--jp-layout-color0, white)));\n",
              "  --sklearn-color-border-box: var(--sg-text-color, var(--theme-code-foreground, var(--jp-content-font-color1, black)));\n",
              "  --sklearn-color-icon: #696969;\n",
              "\n",
              "  @media (prefers-color-scheme: dark) {\n",
              "    /* Redefinition of color scheme for dark theme */\n",
              "    --sklearn-color-text-on-default-background: var(--sg-text-color, var(--theme-code-foreground, var(--jp-content-font-color1, white)));\n",
              "    --sklearn-color-background: var(--sg-background-color, var(--theme-background, var(--jp-layout-color0, #111)));\n",
              "    --sklearn-color-border-box: var(--sg-text-color, var(--theme-code-foreground, var(--jp-content-font-color1, white)));\n",
              "    --sklearn-color-icon: #878787;\n",
              "  }\n",
              "}\n",
              "\n",
              "#sk-container-id-2 {\n",
              "  color: var(--sklearn-color-text);\n",
              "}\n",
              "\n",
              "#sk-container-id-2 pre {\n",
              "  padding: 0;\n",
              "}\n",
              "\n",
              "#sk-container-id-2 input.sk-hidden--visually {\n",
              "  border: 0;\n",
              "  clip: rect(1px 1px 1px 1px);\n",
              "  clip: rect(1px, 1px, 1px, 1px);\n",
              "  height: 1px;\n",
              "  margin: -1px;\n",
              "  overflow: hidden;\n",
              "  padding: 0;\n",
              "  position: absolute;\n",
              "  width: 1px;\n",
              "}\n",
              "\n",
              "#sk-container-id-2 div.sk-dashed-wrapped {\n",
              "  border: 1px dashed var(--sklearn-color-line);\n",
              "  margin: 0 0.4em 0.5em 0.4em;\n",
              "  box-sizing: border-box;\n",
              "  padding-bottom: 0.4em;\n",
              "  background-color: var(--sklearn-color-background);\n",
              "}\n",
              "\n",
              "#sk-container-id-2 div.sk-container {\n",
              "  /* jupyter's `normalize.less` sets `[hidden] { display: none; }`\n",
              "     but bootstrap.min.css set `[hidden] { display: none !important; }`\n",
              "     so we also need the `!important` here to be able to override the\n",
              "     default hidden behavior on the sphinx rendered scikit-learn.org.\n",
              "     See: https://github.com/scikit-learn/scikit-learn/issues/21755 */\n",
              "  display: inline-block !important;\n",
              "  position: relative;\n",
              "}\n",
              "\n",
              "#sk-container-id-2 div.sk-text-repr-fallback {\n",
              "  display: none;\n",
              "}\n",
              "\n",
              "div.sk-parallel-item,\n",
              "div.sk-serial,\n",
              "div.sk-item {\n",
              "  /* draw centered vertical line to link estimators */\n",
              "  background-image: linear-gradient(var(--sklearn-color-text-on-default-background), var(--sklearn-color-text-on-default-background));\n",
              "  background-size: 2px 100%;\n",
              "  background-repeat: no-repeat;\n",
              "  background-position: center center;\n",
              "}\n",
              "\n",
              "/* Parallel-specific style estimator block */\n",
              "\n",
              "#sk-container-id-2 div.sk-parallel-item::after {\n",
              "  content: \"\";\n",
              "  width: 100%;\n",
              "  border-bottom: 2px solid var(--sklearn-color-text-on-default-background);\n",
              "  flex-grow: 1;\n",
              "}\n",
              "\n",
              "#sk-container-id-2 div.sk-parallel {\n",
              "  display: flex;\n",
              "  align-items: stretch;\n",
              "  justify-content: center;\n",
              "  background-color: var(--sklearn-color-background);\n",
              "  position: relative;\n",
              "}\n",
              "\n",
              "#sk-container-id-2 div.sk-parallel-item {\n",
              "  display: flex;\n",
              "  flex-direction: column;\n",
              "}\n",
              "\n",
              "#sk-container-id-2 div.sk-parallel-item:first-child::after {\n",
              "  align-self: flex-end;\n",
              "  width: 50%;\n",
              "}\n",
              "\n",
              "#sk-container-id-2 div.sk-parallel-item:last-child::after {\n",
              "  align-self: flex-start;\n",
              "  width: 50%;\n",
              "}\n",
              "\n",
              "#sk-container-id-2 div.sk-parallel-item:only-child::after {\n",
              "  width: 0;\n",
              "}\n",
              "\n",
              "/* Serial-specific style estimator block */\n",
              "\n",
              "#sk-container-id-2 div.sk-serial {\n",
              "  display: flex;\n",
              "  flex-direction: column;\n",
              "  align-items: center;\n",
              "  background-color: var(--sklearn-color-background);\n",
              "  padding-right: 1em;\n",
              "  padding-left: 1em;\n",
              "}\n",
              "\n",
              "\n",
              "/* Toggleable style: style used for estimator/Pipeline/ColumnTransformer box that is\n",
              "clickable and can be expanded/collapsed.\n",
              "- Pipeline and ColumnTransformer use this feature and define the default style\n",
              "- Estimators will overwrite some part of the style using the `sk-estimator` class\n",
              "*/\n",
              "\n",
              "/* Pipeline and ColumnTransformer style (default) */\n",
              "\n",
              "#sk-container-id-2 div.sk-toggleable {\n",
              "  /* Default theme specific background. It is overwritten whether we have a\n",
              "  specific estimator or a Pipeline/ColumnTransformer */\n",
              "  background-color: var(--sklearn-color-background);\n",
              "}\n",
              "\n",
              "/* Toggleable label */\n",
              "#sk-container-id-2 label.sk-toggleable__label {\n",
              "  cursor: pointer;\n",
              "  display: flex;\n",
              "  width: 100%;\n",
              "  margin-bottom: 0;\n",
              "  padding: 0.5em;\n",
              "  box-sizing: border-box;\n",
              "  text-align: center;\n",
              "  align-items: start;\n",
              "  justify-content: space-between;\n",
              "  gap: 0.5em;\n",
              "}\n",
              "\n",
              "#sk-container-id-2 label.sk-toggleable__label .caption {\n",
              "  font-size: 0.6rem;\n",
              "  font-weight: lighter;\n",
              "  color: var(--sklearn-color-text-muted);\n",
              "}\n",
              "\n",
              "#sk-container-id-2 label.sk-toggleable__label-arrow:before {\n",
              "  /* Arrow on the left of the label */\n",
              "  content: \"▸\";\n",
              "  float: left;\n",
              "  margin-right: 0.25em;\n",
              "  color: var(--sklearn-color-icon);\n",
              "}\n",
              "\n",
              "#sk-container-id-2 label.sk-toggleable__label-arrow:hover:before {\n",
              "  color: var(--sklearn-color-text);\n",
              "}\n",
              "\n",
              "/* Toggleable content - dropdown */\n",
              "\n",
              "#sk-container-id-2 div.sk-toggleable__content {\n",
              "  max-height: 0;\n",
              "  max-width: 0;\n",
              "  overflow: hidden;\n",
              "  text-align: left;\n",
              "  /* unfitted */\n",
              "  background-color: var(--sklearn-color-unfitted-level-0);\n",
              "}\n",
              "\n",
              "#sk-container-id-2 div.sk-toggleable__content.fitted {\n",
              "  /* fitted */\n",
              "  background-color: var(--sklearn-color-fitted-level-0);\n",
              "}\n",
              "\n",
              "#sk-container-id-2 div.sk-toggleable__content pre {\n",
              "  margin: 0.2em;\n",
              "  border-radius: 0.25em;\n",
              "  color: var(--sklearn-color-text);\n",
              "  /* unfitted */\n",
              "  background-color: var(--sklearn-color-unfitted-level-0);\n",
              "}\n",
              "\n",
              "#sk-container-id-2 div.sk-toggleable__content.fitted pre {\n",
              "  /* unfitted */\n",
              "  background-color: var(--sklearn-color-fitted-level-0);\n",
              "}\n",
              "\n",
              "#sk-container-id-2 input.sk-toggleable__control:checked~div.sk-toggleable__content {\n",
              "  /* Expand drop-down */\n",
              "  max-height: 200px;\n",
              "  max-width: 100%;\n",
              "  overflow: auto;\n",
              "}\n",
              "\n",
              "#sk-container-id-2 input.sk-toggleable__control:checked~label.sk-toggleable__label-arrow:before {\n",
              "  content: \"▾\";\n",
              "}\n",
              "\n",
              "/* Pipeline/ColumnTransformer-specific style */\n",
              "\n",
              "#sk-container-id-2 div.sk-label input.sk-toggleable__control:checked~label.sk-toggleable__label {\n",
              "  color: var(--sklearn-color-text);\n",
              "  background-color: var(--sklearn-color-unfitted-level-2);\n",
              "}\n",
              "\n",
              "#sk-container-id-2 div.sk-label.fitted input.sk-toggleable__control:checked~label.sk-toggleable__label {\n",
              "  background-color: var(--sklearn-color-fitted-level-2);\n",
              "}\n",
              "\n",
              "/* Estimator-specific style */\n",
              "\n",
              "/* Colorize estimator box */\n",
              "#sk-container-id-2 div.sk-estimator input.sk-toggleable__control:checked~label.sk-toggleable__label {\n",
              "  /* unfitted */\n",
              "  background-color: var(--sklearn-color-unfitted-level-2);\n",
              "}\n",
              "\n",
              "#sk-container-id-2 div.sk-estimator.fitted input.sk-toggleable__control:checked~label.sk-toggleable__label {\n",
              "  /* fitted */\n",
              "  background-color: var(--sklearn-color-fitted-level-2);\n",
              "}\n",
              "\n",
              "#sk-container-id-2 div.sk-label label.sk-toggleable__label,\n",
              "#sk-container-id-2 div.sk-label label {\n",
              "  /* The background is the default theme color */\n",
              "  color: var(--sklearn-color-text-on-default-background);\n",
              "}\n",
              "\n",
              "/* On hover, darken the color of the background */\n",
              "#sk-container-id-2 div.sk-label:hover label.sk-toggleable__label {\n",
              "  color: var(--sklearn-color-text);\n",
              "  background-color: var(--sklearn-color-unfitted-level-2);\n",
              "}\n",
              "\n",
              "/* Label box, darken color on hover, fitted */\n",
              "#sk-container-id-2 div.sk-label.fitted:hover label.sk-toggleable__label.fitted {\n",
              "  color: var(--sklearn-color-text);\n",
              "  background-color: var(--sklearn-color-fitted-level-2);\n",
              "}\n",
              "\n",
              "/* Estimator label */\n",
              "\n",
              "#sk-container-id-2 div.sk-label label {\n",
              "  font-family: monospace;\n",
              "  font-weight: bold;\n",
              "  display: inline-block;\n",
              "  line-height: 1.2em;\n",
              "}\n",
              "\n",
              "#sk-container-id-2 div.sk-label-container {\n",
              "  text-align: center;\n",
              "}\n",
              "\n",
              "/* Estimator-specific */\n",
              "#sk-container-id-2 div.sk-estimator {\n",
              "  font-family: monospace;\n",
              "  border: 1px dotted var(--sklearn-color-border-box);\n",
              "  border-radius: 0.25em;\n",
              "  box-sizing: border-box;\n",
              "  margin-bottom: 0.5em;\n",
              "  /* unfitted */\n",
              "  background-color: var(--sklearn-color-unfitted-level-0);\n",
              "}\n",
              "\n",
              "#sk-container-id-2 div.sk-estimator.fitted {\n",
              "  /* fitted */\n",
              "  background-color: var(--sklearn-color-fitted-level-0);\n",
              "}\n",
              "\n",
              "/* on hover */\n",
              "#sk-container-id-2 div.sk-estimator:hover {\n",
              "  /* unfitted */\n",
              "  background-color: var(--sklearn-color-unfitted-level-2);\n",
              "}\n",
              "\n",
              "#sk-container-id-2 div.sk-estimator.fitted:hover {\n",
              "  /* fitted */\n",
              "  background-color: var(--sklearn-color-fitted-level-2);\n",
              "}\n",
              "\n",
              "/* Specification for estimator info (e.g. \"i\" and \"?\") */\n",
              "\n",
              "/* Common style for \"i\" and \"?\" */\n",
              "\n",
              ".sk-estimator-doc-link,\n",
              "a:link.sk-estimator-doc-link,\n",
              "a:visited.sk-estimator-doc-link {\n",
              "  float: right;\n",
              "  font-size: smaller;\n",
              "  line-height: 1em;\n",
              "  font-family: monospace;\n",
              "  background-color: var(--sklearn-color-background);\n",
              "  border-radius: 1em;\n",
              "  height: 1em;\n",
              "  width: 1em;\n",
              "  text-decoration: none !important;\n",
              "  margin-left: 0.5em;\n",
              "  text-align: center;\n",
              "  /* unfitted */\n",
              "  border: var(--sklearn-color-unfitted-level-1) 1pt solid;\n",
              "  color: var(--sklearn-color-unfitted-level-1);\n",
              "}\n",
              "\n",
              ".sk-estimator-doc-link.fitted,\n",
              "a:link.sk-estimator-doc-link.fitted,\n",
              "a:visited.sk-estimator-doc-link.fitted {\n",
              "  /* fitted */\n",
              "  border: var(--sklearn-color-fitted-level-1) 1pt solid;\n",
              "  color: var(--sklearn-color-fitted-level-1);\n",
              "}\n",
              "\n",
              "/* On hover */\n",
              "div.sk-estimator:hover .sk-estimator-doc-link:hover,\n",
              ".sk-estimator-doc-link:hover,\n",
              "div.sk-label-container:hover .sk-estimator-doc-link:hover,\n",
              ".sk-estimator-doc-link:hover {\n",
              "  /* unfitted */\n",
              "  background-color: var(--sklearn-color-unfitted-level-3);\n",
              "  color: var(--sklearn-color-background);\n",
              "  text-decoration: none;\n",
              "}\n",
              "\n",
              "div.sk-estimator.fitted:hover .sk-estimator-doc-link.fitted:hover,\n",
              ".sk-estimator-doc-link.fitted:hover,\n",
              "div.sk-label-container:hover .sk-estimator-doc-link.fitted:hover,\n",
              ".sk-estimator-doc-link.fitted:hover {\n",
              "  /* fitted */\n",
              "  background-color: var(--sklearn-color-fitted-level-3);\n",
              "  color: var(--sklearn-color-background);\n",
              "  text-decoration: none;\n",
              "}\n",
              "\n",
              "/* Span, style for the box shown on hovering the info icon */\n",
              ".sk-estimator-doc-link span {\n",
              "  display: none;\n",
              "  z-index: 9999;\n",
              "  position: relative;\n",
              "  font-weight: normal;\n",
              "  right: .2ex;\n",
              "  padding: .5ex;\n",
              "  margin: .5ex;\n",
              "  width: min-content;\n",
              "  min-width: 20ex;\n",
              "  max-width: 50ex;\n",
              "  color: var(--sklearn-color-text);\n",
              "  box-shadow: 2pt 2pt 4pt #999;\n",
              "  /* unfitted */\n",
              "  background: var(--sklearn-color-unfitted-level-0);\n",
              "  border: .5pt solid var(--sklearn-color-unfitted-level-3);\n",
              "}\n",
              "\n",
              ".sk-estimator-doc-link.fitted span {\n",
              "  /* fitted */\n",
              "  background: var(--sklearn-color-fitted-level-0);\n",
              "  border: var(--sklearn-color-fitted-level-3);\n",
              "}\n",
              "\n",
              ".sk-estimator-doc-link:hover span {\n",
              "  display: block;\n",
              "}\n",
              "\n",
              "/* \"?\"-specific style due to the `<a>` HTML tag */\n",
              "\n",
              "#sk-container-id-2 a.estimator_doc_link {\n",
              "  float: right;\n",
              "  font-size: 1rem;\n",
              "  line-height: 1em;\n",
              "  font-family: monospace;\n",
              "  background-color: var(--sklearn-color-background);\n",
              "  border-radius: 1rem;\n",
              "  height: 1rem;\n",
              "  width: 1rem;\n",
              "  text-decoration: none;\n",
              "  /* unfitted */\n",
              "  color: var(--sklearn-color-unfitted-level-1);\n",
              "  border: var(--sklearn-color-unfitted-level-1) 1pt solid;\n",
              "}\n",
              "\n",
              "#sk-container-id-2 a.estimator_doc_link.fitted {\n",
              "  /* fitted */\n",
              "  border: var(--sklearn-color-fitted-level-1) 1pt solid;\n",
              "  color: var(--sklearn-color-fitted-level-1);\n",
              "}\n",
              "\n",
              "/* On hover */\n",
              "#sk-container-id-2 a.estimator_doc_link:hover {\n",
              "  /* unfitted */\n",
              "  background-color: var(--sklearn-color-unfitted-level-3);\n",
              "  color: var(--sklearn-color-background);\n",
              "  text-decoration: none;\n",
              "}\n",
              "\n",
              "#sk-container-id-2 a.estimator_doc_link.fitted:hover {\n",
              "  /* fitted */\n",
              "  background-color: var(--sklearn-color-fitted-level-3);\n",
              "}\n",
              "</style><div id=\"sk-container-id-2\" class=\"sk-top-container\"><div class=\"sk-text-repr-fallback\"><pre>SVR()</pre><b>In a Jupyter environment, please rerun this cell to show the HTML representation or trust the notebook. <br />On GitHub, the HTML representation is unable to render, please try loading this page with nbviewer.org.</b></div><div class=\"sk-container\" hidden><div class=\"sk-item\"><div class=\"sk-estimator fitted sk-toggleable\"><input class=\"sk-toggleable__control sk-hidden--visually\" id=\"sk-estimator-id-2\" type=\"checkbox\" checked><label for=\"sk-estimator-id-2\" class=\"sk-toggleable__label fitted sk-toggleable__label-arrow\"><div><div>SVR</div></div><div><a class=\"sk-estimator-doc-link fitted\" rel=\"noreferrer\" target=\"_blank\" href=\"https://scikit-learn.org/1.6/modules/generated/sklearn.svm.SVR.html\">?<span>Documentation for SVR</span></a><span class=\"sk-estimator-doc-link fitted\">i<span>Fitted</span></span></div></label><div class=\"sk-toggleable__content fitted\"><pre>SVR()</pre></div> </div></div></div></div>"
            ]
          },
          "metadata": {},
          "execution_count": 48
        }
      ]
    },
    {
      "cell_type": "code",
      "source": [
        "with open(\"svr.pkl\", \"wb\") as f:\n",
        "    pickle.dump(svr, f)"
      ],
      "metadata": {
        "id": "ZGCm6Ms1o5rU"
      },
      "execution_count": 49,
      "outputs": []
    },
    {
      "cell_type": "code",
      "source": [
        "with open(\"svr.pkl\", \"rb\") as f:\n",
        "    loaded_svr = pickle.load(f)\n",
        "\n",
        "y_pred_loaded = loaded_svr.predict(X_test)\n",
        "\n",
        "rmse = np.sqrt(mean_squared_error(y_test, y_pred))\n",
        "r2 = r2_score(y_test, y_pred)\n",
        "mape = mean_absolute_percentage_error(y_test, y_pred) * 100\n",
        "\n",
        "print(f'RMSE: {rmse}')\n",
        "print(f'R²: {r2}')\n",
        "print(f'MAPE: {mape}%')"
      ],
      "metadata": {
        "colab": {
          "base_uri": "https://localhost:8080/"
        },
        "id": "6HVUs2RJo6vR",
        "outputId": "41ef5499-bbfc-4444-c22f-10b5b06e6204"
      },
      "execution_count": 50,
      "outputs": [
        {
          "output_type": "stream",
          "name": "stdout",
          "text": [
            "RMSE: 55.67877053492875\n",
            "R²: 0.41898298263549805\n",
            "MAPE: 32.960546016693115%\n"
          ]
        }
      ]
    },
    {
      "cell_type": "markdown",
      "source": [
        "O SVR é um modelo de aprendizado supervisionado que, ao invés de simplesmente ajustar uma linha reta como a regressão linear, busca um hiperplano de alta dimensão para realizar a previsão, ajustando-se a uma margem de erro controlada. Isso permite que o SVR capture relações mais complexas nos dados. A tarefa é prever valores numéricos, que são os preços dos imóveis.\n",
        "\n",
        "As métricas fornecem uma visão sobre a performance do modelo. O RMSE de 55.67 indica que a média dos erros quadráticos entre as previsões e os valores reais é de aproximadamente 56 unidades monetárias, sugerindo que há margem para melhorias. O R² de 0.41 indica que o modelo consegue explicar cerca de 41% da variação dos preços, o que é relativamente baixo e sugere que o modelo não está capturando todas as variáveis relevantes ou há complexidade nos dados não capturada pelo modelo. Por fim, o MAPE de 32,96% indica que, em média, as previsões do modelo estão a cerca de 33% do valor real, o que é um valor considerável."
      ],
      "metadata": {
        "id": "A19K5lFQJcZc"
      }
    },
    {
      "cell_type": "markdown",
      "source": [
        "###Ensemble Learning"
      ],
      "metadata": {
        "id": "X966NARoLyWs"
      }
    },
    {
      "cell_type": "code",
      "source": [
        "X = df.drop(columns=['id', 'nome', 'host_id', 'host_name', 'price', 'ultima_review'])\n",
        "X = pd.get_dummies(X, drop_first=True)\n",
        "y = df['price']\n",
        "\n",
        "scaler = StandardScaler()\n",
        "X_scaled = scaler.fit_transform(X)\n",
        "\n",
        "X_train, X_test, y_train, y_test = train_test_split(X_scaled, y, test_size=0.2, random_state=42)\n",
        "\n",
        "rf = RandomForestRegressor(n_estimators=150, random_state=42)\n",
        "svr = SVR(kernel='rbf')\n",
        "rna = MLPRegressor(hidden_layer_sizes=(64, 32), max_iter=100, random_state=42)\n",
        "\n",
        "ensemble_model = VotingRegressor(estimators=[('rf', rf), ('svr', svr), ('rna', rna)])\n",
        "\n",
        "ensemble_model.fit(X_train, y_train)"
      ],
      "metadata": {
        "colab": {
          "base_uri": "https://localhost:8080/",
          "height": 190
        },
        "id": "q9bV0wcDL1u-",
        "outputId": "262a8d57-3d1a-482f-fb1f-8e390b803a6b",
        "collapsed": true
      },
      "execution_count": 51,
      "outputs": [
        {
          "output_type": "stream",
          "name": "stderr",
          "text": [
            "/usr/local/lib/python3.11/dist-packages/sklearn/neural_network/_multilayer_perceptron.py:691: ConvergenceWarning: Stochastic Optimizer: Maximum iterations (100) reached and the optimization hasn't converged yet.\n",
            "  warnings.warn(\n"
          ]
        },
        {
          "output_type": "execute_result",
          "data": {
            "text/plain": [
              "VotingRegressor(estimators=[('rf',\n",
              "                             RandomForestRegressor(n_estimators=150,\n",
              "                                                   random_state=42)),\n",
              "                            ('svr', SVR()),\n",
              "                            ('rna',\n",
              "                             MLPRegressor(hidden_layer_sizes=(64, 32),\n",
              "                                          max_iter=100, random_state=42))])"
            ],
            "text/html": [
              "<style>#sk-container-id-3 {\n",
              "  /* Definition of color scheme common for light and dark mode */\n",
              "  --sklearn-color-text: #000;\n",
              "  --sklearn-color-text-muted: #666;\n",
              "  --sklearn-color-line: gray;\n",
              "  /* Definition of color scheme for unfitted estimators */\n",
              "  --sklearn-color-unfitted-level-0: #fff5e6;\n",
              "  --sklearn-color-unfitted-level-1: #f6e4d2;\n",
              "  --sklearn-color-unfitted-level-2: #ffe0b3;\n",
              "  --sklearn-color-unfitted-level-3: chocolate;\n",
              "  /* Definition of color scheme for fitted estimators */\n",
              "  --sklearn-color-fitted-level-0: #f0f8ff;\n",
              "  --sklearn-color-fitted-level-1: #d4ebff;\n",
              "  --sklearn-color-fitted-level-2: #b3dbfd;\n",
              "  --sklearn-color-fitted-level-3: cornflowerblue;\n",
              "\n",
              "  /* Specific color for light theme */\n",
              "  --sklearn-color-text-on-default-background: var(--sg-text-color, var(--theme-code-foreground, var(--jp-content-font-color1, black)));\n",
              "  --sklearn-color-background: var(--sg-background-color, var(--theme-background, var(--jp-layout-color0, white)));\n",
              "  --sklearn-color-border-box: var(--sg-text-color, var(--theme-code-foreground, var(--jp-content-font-color1, black)));\n",
              "  --sklearn-color-icon: #696969;\n",
              "\n",
              "  @media (prefers-color-scheme: dark) {\n",
              "    /* Redefinition of color scheme for dark theme */\n",
              "    --sklearn-color-text-on-default-background: var(--sg-text-color, var(--theme-code-foreground, var(--jp-content-font-color1, white)));\n",
              "    --sklearn-color-background: var(--sg-background-color, var(--theme-background, var(--jp-layout-color0, #111)));\n",
              "    --sklearn-color-border-box: var(--sg-text-color, var(--theme-code-foreground, var(--jp-content-font-color1, white)));\n",
              "    --sklearn-color-icon: #878787;\n",
              "  }\n",
              "}\n",
              "\n",
              "#sk-container-id-3 {\n",
              "  color: var(--sklearn-color-text);\n",
              "}\n",
              "\n",
              "#sk-container-id-3 pre {\n",
              "  padding: 0;\n",
              "}\n",
              "\n",
              "#sk-container-id-3 input.sk-hidden--visually {\n",
              "  border: 0;\n",
              "  clip: rect(1px 1px 1px 1px);\n",
              "  clip: rect(1px, 1px, 1px, 1px);\n",
              "  height: 1px;\n",
              "  margin: -1px;\n",
              "  overflow: hidden;\n",
              "  padding: 0;\n",
              "  position: absolute;\n",
              "  width: 1px;\n",
              "}\n",
              "\n",
              "#sk-container-id-3 div.sk-dashed-wrapped {\n",
              "  border: 1px dashed var(--sklearn-color-line);\n",
              "  margin: 0 0.4em 0.5em 0.4em;\n",
              "  box-sizing: border-box;\n",
              "  padding-bottom: 0.4em;\n",
              "  background-color: var(--sklearn-color-background);\n",
              "}\n",
              "\n",
              "#sk-container-id-3 div.sk-container {\n",
              "  /* jupyter's `normalize.less` sets `[hidden] { display: none; }`\n",
              "     but bootstrap.min.css set `[hidden] { display: none !important; }`\n",
              "     so we also need the `!important` here to be able to override the\n",
              "     default hidden behavior on the sphinx rendered scikit-learn.org.\n",
              "     See: https://github.com/scikit-learn/scikit-learn/issues/21755 */\n",
              "  display: inline-block !important;\n",
              "  position: relative;\n",
              "}\n",
              "\n",
              "#sk-container-id-3 div.sk-text-repr-fallback {\n",
              "  display: none;\n",
              "}\n",
              "\n",
              "div.sk-parallel-item,\n",
              "div.sk-serial,\n",
              "div.sk-item {\n",
              "  /* draw centered vertical line to link estimators */\n",
              "  background-image: linear-gradient(var(--sklearn-color-text-on-default-background), var(--sklearn-color-text-on-default-background));\n",
              "  background-size: 2px 100%;\n",
              "  background-repeat: no-repeat;\n",
              "  background-position: center center;\n",
              "}\n",
              "\n",
              "/* Parallel-specific style estimator block */\n",
              "\n",
              "#sk-container-id-3 div.sk-parallel-item::after {\n",
              "  content: \"\";\n",
              "  width: 100%;\n",
              "  border-bottom: 2px solid var(--sklearn-color-text-on-default-background);\n",
              "  flex-grow: 1;\n",
              "}\n",
              "\n",
              "#sk-container-id-3 div.sk-parallel {\n",
              "  display: flex;\n",
              "  align-items: stretch;\n",
              "  justify-content: center;\n",
              "  background-color: var(--sklearn-color-background);\n",
              "  position: relative;\n",
              "}\n",
              "\n",
              "#sk-container-id-3 div.sk-parallel-item {\n",
              "  display: flex;\n",
              "  flex-direction: column;\n",
              "}\n",
              "\n",
              "#sk-container-id-3 div.sk-parallel-item:first-child::after {\n",
              "  align-self: flex-end;\n",
              "  width: 50%;\n",
              "}\n",
              "\n",
              "#sk-container-id-3 div.sk-parallel-item:last-child::after {\n",
              "  align-self: flex-start;\n",
              "  width: 50%;\n",
              "}\n",
              "\n",
              "#sk-container-id-3 div.sk-parallel-item:only-child::after {\n",
              "  width: 0;\n",
              "}\n",
              "\n",
              "/* Serial-specific style estimator block */\n",
              "\n",
              "#sk-container-id-3 div.sk-serial {\n",
              "  display: flex;\n",
              "  flex-direction: column;\n",
              "  align-items: center;\n",
              "  background-color: var(--sklearn-color-background);\n",
              "  padding-right: 1em;\n",
              "  padding-left: 1em;\n",
              "}\n",
              "\n",
              "\n",
              "/* Toggleable style: style used for estimator/Pipeline/ColumnTransformer box that is\n",
              "clickable and can be expanded/collapsed.\n",
              "- Pipeline and ColumnTransformer use this feature and define the default style\n",
              "- Estimators will overwrite some part of the style using the `sk-estimator` class\n",
              "*/\n",
              "\n",
              "/* Pipeline and ColumnTransformer style (default) */\n",
              "\n",
              "#sk-container-id-3 div.sk-toggleable {\n",
              "  /* Default theme specific background. It is overwritten whether we have a\n",
              "  specific estimator or a Pipeline/ColumnTransformer */\n",
              "  background-color: var(--sklearn-color-background);\n",
              "}\n",
              "\n",
              "/* Toggleable label */\n",
              "#sk-container-id-3 label.sk-toggleable__label {\n",
              "  cursor: pointer;\n",
              "  display: flex;\n",
              "  width: 100%;\n",
              "  margin-bottom: 0;\n",
              "  padding: 0.5em;\n",
              "  box-sizing: border-box;\n",
              "  text-align: center;\n",
              "  align-items: start;\n",
              "  justify-content: space-between;\n",
              "  gap: 0.5em;\n",
              "}\n",
              "\n",
              "#sk-container-id-3 label.sk-toggleable__label .caption {\n",
              "  font-size: 0.6rem;\n",
              "  font-weight: lighter;\n",
              "  color: var(--sklearn-color-text-muted);\n",
              "}\n",
              "\n",
              "#sk-container-id-3 label.sk-toggleable__label-arrow:before {\n",
              "  /* Arrow on the left of the label */\n",
              "  content: \"▸\";\n",
              "  float: left;\n",
              "  margin-right: 0.25em;\n",
              "  color: var(--sklearn-color-icon);\n",
              "}\n",
              "\n",
              "#sk-container-id-3 label.sk-toggleable__label-arrow:hover:before {\n",
              "  color: var(--sklearn-color-text);\n",
              "}\n",
              "\n",
              "/* Toggleable content - dropdown */\n",
              "\n",
              "#sk-container-id-3 div.sk-toggleable__content {\n",
              "  max-height: 0;\n",
              "  max-width: 0;\n",
              "  overflow: hidden;\n",
              "  text-align: left;\n",
              "  /* unfitted */\n",
              "  background-color: var(--sklearn-color-unfitted-level-0);\n",
              "}\n",
              "\n",
              "#sk-container-id-3 div.sk-toggleable__content.fitted {\n",
              "  /* fitted */\n",
              "  background-color: var(--sklearn-color-fitted-level-0);\n",
              "}\n",
              "\n",
              "#sk-container-id-3 div.sk-toggleable__content pre {\n",
              "  margin: 0.2em;\n",
              "  border-radius: 0.25em;\n",
              "  color: var(--sklearn-color-text);\n",
              "  /* unfitted */\n",
              "  background-color: var(--sklearn-color-unfitted-level-0);\n",
              "}\n",
              "\n",
              "#sk-container-id-3 div.sk-toggleable__content.fitted pre {\n",
              "  /* unfitted */\n",
              "  background-color: var(--sklearn-color-fitted-level-0);\n",
              "}\n",
              "\n",
              "#sk-container-id-3 input.sk-toggleable__control:checked~div.sk-toggleable__content {\n",
              "  /* Expand drop-down */\n",
              "  max-height: 200px;\n",
              "  max-width: 100%;\n",
              "  overflow: auto;\n",
              "}\n",
              "\n",
              "#sk-container-id-3 input.sk-toggleable__control:checked~label.sk-toggleable__label-arrow:before {\n",
              "  content: \"▾\";\n",
              "}\n",
              "\n",
              "/* Pipeline/ColumnTransformer-specific style */\n",
              "\n",
              "#sk-container-id-3 div.sk-label input.sk-toggleable__control:checked~label.sk-toggleable__label {\n",
              "  color: var(--sklearn-color-text);\n",
              "  background-color: var(--sklearn-color-unfitted-level-2);\n",
              "}\n",
              "\n",
              "#sk-container-id-3 div.sk-label.fitted input.sk-toggleable__control:checked~label.sk-toggleable__label {\n",
              "  background-color: var(--sklearn-color-fitted-level-2);\n",
              "}\n",
              "\n",
              "/* Estimator-specific style */\n",
              "\n",
              "/* Colorize estimator box */\n",
              "#sk-container-id-3 div.sk-estimator input.sk-toggleable__control:checked~label.sk-toggleable__label {\n",
              "  /* unfitted */\n",
              "  background-color: var(--sklearn-color-unfitted-level-2);\n",
              "}\n",
              "\n",
              "#sk-container-id-3 div.sk-estimator.fitted input.sk-toggleable__control:checked~label.sk-toggleable__label {\n",
              "  /* fitted */\n",
              "  background-color: var(--sklearn-color-fitted-level-2);\n",
              "}\n",
              "\n",
              "#sk-container-id-3 div.sk-label label.sk-toggleable__label,\n",
              "#sk-container-id-3 div.sk-label label {\n",
              "  /* The background is the default theme color */\n",
              "  color: var(--sklearn-color-text-on-default-background);\n",
              "}\n",
              "\n",
              "/* On hover, darken the color of the background */\n",
              "#sk-container-id-3 div.sk-label:hover label.sk-toggleable__label {\n",
              "  color: var(--sklearn-color-text);\n",
              "  background-color: var(--sklearn-color-unfitted-level-2);\n",
              "}\n",
              "\n",
              "/* Label box, darken color on hover, fitted */\n",
              "#sk-container-id-3 div.sk-label.fitted:hover label.sk-toggleable__label.fitted {\n",
              "  color: var(--sklearn-color-text);\n",
              "  background-color: var(--sklearn-color-fitted-level-2);\n",
              "}\n",
              "\n",
              "/* Estimator label */\n",
              "\n",
              "#sk-container-id-3 div.sk-label label {\n",
              "  font-family: monospace;\n",
              "  font-weight: bold;\n",
              "  display: inline-block;\n",
              "  line-height: 1.2em;\n",
              "}\n",
              "\n",
              "#sk-container-id-3 div.sk-label-container {\n",
              "  text-align: center;\n",
              "}\n",
              "\n",
              "/* Estimator-specific */\n",
              "#sk-container-id-3 div.sk-estimator {\n",
              "  font-family: monospace;\n",
              "  border: 1px dotted var(--sklearn-color-border-box);\n",
              "  border-radius: 0.25em;\n",
              "  box-sizing: border-box;\n",
              "  margin-bottom: 0.5em;\n",
              "  /* unfitted */\n",
              "  background-color: var(--sklearn-color-unfitted-level-0);\n",
              "}\n",
              "\n",
              "#sk-container-id-3 div.sk-estimator.fitted {\n",
              "  /* fitted */\n",
              "  background-color: var(--sklearn-color-fitted-level-0);\n",
              "}\n",
              "\n",
              "/* on hover */\n",
              "#sk-container-id-3 div.sk-estimator:hover {\n",
              "  /* unfitted */\n",
              "  background-color: var(--sklearn-color-unfitted-level-2);\n",
              "}\n",
              "\n",
              "#sk-container-id-3 div.sk-estimator.fitted:hover {\n",
              "  /* fitted */\n",
              "  background-color: var(--sklearn-color-fitted-level-2);\n",
              "}\n",
              "\n",
              "/* Specification for estimator info (e.g. \"i\" and \"?\") */\n",
              "\n",
              "/* Common style for \"i\" and \"?\" */\n",
              "\n",
              ".sk-estimator-doc-link,\n",
              "a:link.sk-estimator-doc-link,\n",
              "a:visited.sk-estimator-doc-link {\n",
              "  float: right;\n",
              "  font-size: smaller;\n",
              "  line-height: 1em;\n",
              "  font-family: monospace;\n",
              "  background-color: var(--sklearn-color-background);\n",
              "  border-radius: 1em;\n",
              "  height: 1em;\n",
              "  width: 1em;\n",
              "  text-decoration: none !important;\n",
              "  margin-left: 0.5em;\n",
              "  text-align: center;\n",
              "  /* unfitted */\n",
              "  border: var(--sklearn-color-unfitted-level-1) 1pt solid;\n",
              "  color: var(--sklearn-color-unfitted-level-1);\n",
              "}\n",
              "\n",
              ".sk-estimator-doc-link.fitted,\n",
              "a:link.sk-estimator-doc-link.fitted,\n",
              "a:visited.sk-estimator-doc-link.fitted {\n",
              "  /* fitted */\n",
              "  border: var(--sklearn-color-fitted-level-1) 1pt solid;\n",
              "  color: var(--sklearn-color-fitted-level-1);\n",
              "}\n",
              "\n",
              "/* On hover */\n",
              "div.sk-estimator:hover .sk-estimator-doc-link:hover,\n",
              ".sk-estimator-doc-link:hover,\n",
              "div.sk-label-container:hover .sk-estimator-doc-link:hover,\n",
              ".sk-estimator-doc-link:hover {\n",
              "  /* unfitted */\n",
              "  background-color: var(--sklearn-color-unfitted-level-3);\n",
              "  color: var(--sklearn-color-background);\n",
              "  text-decoration: none;\n",
              "}\n",
              "\n",
              "div.sk-estimator.fitted:hover .sk-estimator-doc-link.fitted:hover,\n",
              ".sk-estimator-doc-link.fitted:hover,\n",
              "div.sk-label-container:hover .sk-estimator-doc-link.fitted:hover,\n",
              ".sk-estimator-doc-link.fitted:hover {\n",
              "  /* fitted */\n",
              "  background-color: var(--sklearn-color-fitted-level-3);\n",
              "  color: var(--sklearn-color-background);\n",
              "  text-decoration: none;\n",
              "}\n",
              "\n",
              "/* Span, style for the box shown on hovering the info icon */\n",
              ".sk-estimator-doc-link span {\n",
              "  display: none;\n",
              "  z-index: 9999;\n",
              "  position: relative;\n",
              "  font-weight: normal;\n",
              "  right: .2ex;\n",
              "  padding: .5ex;\n",
              "  margin: .5ex;\n",
              "  width: min-content;\n",
              "  min-width: 20ex;\n",
              "  max-width: 50ex;\n",
              "  color: var(--sklearn-color-text);\n",
              "  box-shadow: 2pt 2pt 4pt #999;\n",
              "  /* unfitted */\n",
              "  background: var(--sklearn-color-unfitted-level-0);\n",
              "  border: .5pt solid var(--sklearn-color-unfitted-level-3);\n",
              "}\n",
              "\n",
              ".sk-estimator-doc-link.fitted span {\n",
              "  /* fitted */\n",
              "  background: var(--sklearn-color-fitted-level-0);\n",
              "  border: var(--sklearn-color-fitted-level-3);\n",
              "}\n",
              "\n",
              ".sk-estimator-doc-link:hover span {\n",
              "  display: block;\n",
              "}\n",
              "\n",
              "/* \"?\"-specific style due to the `<a>` HTML tag */\n",
              "\n",
              "#sk-container-id-3 a.estimator_doc_link {\n",
              "  float: right;\n",
              "  font-size: 1rem;\n",
              "  line-height: 1em;\n",
              "  font-family: monospace;\n",
              "  background-color: var(--sklearn-color-background);\n",
              "  border-radius: 1rem;\n",
              "  height: 1rem;\n",
              "  width: 1rem;\n",
              "  text-decoration: none;\n",
              "  /* unfitted */\n",
              "  color: var(--sklearn-color-unfitted-level-1);\n",
              "  border: var(--sklearn-color-unfitted-level-1) 1pt solid;\n",
              "}\n",
              "\n",
              "#sk-container-id-3 a.estimator_doc_link.fitted {\n",
              "  /* fitted */\n",
              "  border: var(--sklearn-color-fitted-level-1) 1pt solid;\n",
              "  color: var(--sklearn-color-fitted-level-1);\n",
              "}\n",
              "\n",
              "/* On hover */\n",
              "#sk-container-id-3 a.estimator_doc_link:hover {\n",
              "  /* unfitted */\n",
              "  background-color: var(--sklearn-color-unfitted-level-3);\n",
              "  color: var(--sklearn-color-background);\n",
              "  text-decoration: none;\n",
              "}\n",
              "\n",
              "#sk-container-id-3 a.estimator_doc_link.fitted:hover {\n",
              "  /* fitted */\n",
              "  background-color: var(--sklearn-color-fitted-level-3);\n",
              "}\n",
              "</style><div id=\"sk-container-id-3\" class=\"sk-top-container\"><div class=\"sk-text-repr-fallback\"><pre>VotingRegressor(estimators=[(&#x27;rf&#x27;,\n",
              "                             RandomForestRegressor(n_estimators=150,\n",
              "                                                   random_state=42)),\n",
              "                            (&#x27;svr&#x27;, SVR()),\n",
              "                            (&#x27;rna&#x27;,\n",
              "                             MLPRegressor(hidden_layer_sizes=(64, 32),\n",
              "                                          max_iter=100, random_state=42))])</pre><b>In a Jupyter environment, please rerun this cell to show the HTML representation or trust the notebook. <br />On GitHub, the HTML representation is unable to render, please try loading this page with nbviewer.org.</b></div><div class=\"sk-container\" hidden><div class=\"sk-item sk-dashed-wrapped\"><div class=\"sk-label-container\"><div class=\"sk-label fitted sk-toggleable\"><input class=\"sk-toggleable__control sk-hidden--visually\" id=\"sk-estimator-id-3\" type=\"checkbox\" ><label for=\"sk-estimator-id-3\" class=\"sk-toggleable__label fitted sk-toggleable__label-arrow\"><div><div>VotingRegressor</div></div><div><a class=\"sk-estimator-doc-link fitted\" rel=\"noreferrer\" target=\"_blank\" href=\"https://scikit-learn.org/1.6/modules/generated/sklearn.ensemble.VotingRegressor.html\">?<span>Documentation for VotingRegressor</span></a><span class=\"sk-estimator-doc-link fitted\">i<span>Fitted</span></span></div></label><div class=\"sk-toggleable__content fitted\"><pre>VotingRegressor(estimators=[(&#x27;rf&#x27;,\n",
              "                             RandomForestRegressor(n_estimators=150,\n",
              "                                                   random_state=42)),\n",
              "                            (&#x27;svr&#x27;, SVR()),\n",
              "                            (&#x27;rna&#x27;,\n",
              "                             MLPRegressor(hidden_layer_sizes=(64, 32),\n",
              "                                          max_iter=100, random_state=42))])</pre></div> </div></div><div class=\"sk-parallel\"><div class=\"sk-parallel-item\"><div class=\"sk-item\"><div class=\"sk-label-container\"><div class=\"sk-label fitted sk-toggleable\"><label>rf</label></div></div><div class=\"sk-serial\"><div class=\"sk-item\"><div class=\"sk-estimator fitted sk-toggleable\"><input class=\"sk-toggleable__control sk-hidden--visually\" id=\"sk-estimator-id-4\" type=\"checkbox\" ><label for=\"sk-estimator-id-4\" class=\"sk-toggleable__label fitted sk-toggleable__label-arrow\"><div><div>RandomForestRegressor</div></div><div><a class=\"sk-estimator-doc-link fitted\" rel=\"noreferrer\" target=\"_blank\" href=\"https://scikit-learn.org/1.6/modules/generated/sklearn.ensemble.RandomForestRegressor.html\">?<span>Documentation for RandomForestRegressor</span></a></div></label><div class=\"sk-toggleable__content fitted\"><pre>RandomForestRegressor(n_estimators=150, random_state=42)</pre></div> </div></div></div></div></div><div class=\"sk-parallel-item\"><div class=\"sk-item\"><div class=\"sk-label-container\"><div class=\"sk-label fitted sk-toggleable\"><label>svr</label></div></div><div class=\"sk-serial\"><div class=\"sk-item\"><div class=\"sk-estimator fitted sk-toggleable\"><input class=\"sk-toggleable__control sk-hidden--visually\" id=\"sk-estimator-id-5\" type=\"checkbox\" ><label for=\"sk-estimator-id-5\" class=\"sk-toggleable__label fitted sk-toggleable__label-arrow\"><div><div>SVR</div></div><div><a class=\"sk-estimator-doc-link fitted\" rel=\"noreferrer\" target=\"_blank\" href=\"https://scikit-learn.org/1.6/modules/generated/sklearn.svm.SVR.html\">?<span>Documentation for SVR</span></a></div></label><div class=\"sk-toggleable__content fitted\"><pre>SVR()</pre></div> </div></div></div></div></div><div class=\"sk-parallel-item\"><div class=\"sk-item\"><div class=\"sk-label-container\"><div class=\"sk-label fitted sk-toggleable\"><label>rna</label></div></div><div class=\"sk-serial\"><div class=\"sk-item\"><div class=\"sk-estimator fitted sk-toggleable\"><input class=\"sk-toggleable__control sk-hidden--visually\" id=\"sk-estimator-id-6\" type=\"checkbox\" ><label for=\"sk-estimator-id-6\" class=\"sk-toggleable__label fitted sk-toggleable__label-arrow\"><div><div>MLPRegressor</div></div><div><a class=\"sk-estimator-doc-link fitted\" rel=\"noreferrer\" target=\"_blank\" href=\"https://scikit-learn.org/1.6/modules/generated/sklearn.neural_network.MLPRegressor.html\">?<span>Documentation for MLPRegressor</span></a></div></label><div class=\"sk-toggleable__content fitted\"><pre>MLPRegressor(hidden_layer_sizes=(64, 32), max_iter=100, random_state=42)</pre></div> </div></div></div></div></div></div></div></div></div>"
            ]
          },
          "metadata": {},
          "execution_count": 51
        }
      ]
    },
    {
      "cell_type": "code",
      "source": [
        "with open(\"ensemble.pkl\", \"wb\") as f:\n",
        "    pickle.dump(ensemble_model, f)"
      ],
      "metadata": {
        "id": "6hBMI17YrxK-"
      },
      "execution_count": 52,
      "outputs": []
    },
    {
      "cell_type": "code",
      "source": [
        "with open(\"ensemble.pkl\", \"rb\") as f:\n",
        "    loaded_ensemble_model = pickle.load(f)\n",
        "\n",
        "y_pred = loaded_ensemble_model.predict(X_test)\n",
        "\n",
        "rmse = np.sqrt(mean_squared_error(y_test, y_pred))\n",
        "r2= r2_score(y_test, y_pred)\n",
        "mape = mean_absolute_percentage_error(y_test, y_pred) * 100\n",
        "\n",
        "print(f'RMSE: {rmse}')\n",
        "print(f'R²: {r2}')\n",
        "print(f'MAPE: {mape}%')"
      ],
      "metadata": {
        "colab": {
          "base_uri": "https://localhost:8080/"
        },
        "id": "bkWOBna9sGsB",
        "outputId": "38b6940d-9a09-431e-d7c7-12f5dddd1e93"
      },
      "execution_count": 53,
      "outputs": [
        {
          "output_type": "stream",
          "name": "stdout",
          "text": [
            "RMSE: 47.818563811883806\n",
            "R²: 0.571448811725535\n",
            "MAPE: 29.68193536004591%\n"
          ]
        }
      ]
    },
    {
      "cell_type": "markdown",
      "source": [
        "O modelo de ensemble é composto por três algoritmos: Random Forest Regressor, SVR e RNA. Para isso, ele realiza um pré-processamento nos dados, removendo colunas irrelevantes, além de transformar variáveis categóricas em numéricas. Em seguida, os dados são normalizados e depois, o conjunto de dados é dividido em treino e teste. O modelo combina os três algoritmos mencionados.\n",
        "\n",
        "O RMSE obtido foi 47.82, indicando que o erro médio das previsões é de aproximadamente 47.82 unidades monetárias. O R² foi 0.57, mostrando que o modelo consegue explicar 57% da variabilidade dos preços. Já o MAPE foi 29.68%, o que significa que, em média, os erros de previsão representam 29.68% do preço real do imóvel."
      ],
      "metadata": {
        "id": "Dew8XNXP7tVa"
      }
    },
    {
      "cell_type": "markdown",
      "source": [
        "### Qual modelo foi escolhido?"
      ],
      "metadata": {
        "id": "qK7KdAayQpYa"
      }
    },
    {
      "cell_type": "markdown",
      "source": [
        "Com base nos resultados apresentados, o modelo que melhor se aproxima dos dados é o Random Forest. Ele apresentou um RMSE de 47.50, o maior R² (0.577) e um MAPE de 30.25%, destacando-se como o modelo mais preciso para prever os valores de preço. O Random Forest é robusto contra overfitting devido à sua abordagem de agregação de árvores, além de capturar bem relações não lineares entre as variáveis. No entanto, ele pode ser menos interpretável em comparação com modelos lineares.\n",
        "\n",
        "A Rede Neural Artificial (RNA) apresentou um RMSE de 54.01, R² de 0.453 e MAPE de 31.23%. Esses resultados mostram que ela teve mais dificuldade em ajustar os dados do que os outros modelos.\n",
        "\n",
        "O SVR, por sua vez, apresentou um RMSE de 54.21, R² de 0.449 e MAPE de 31.16%. O desempenho do SVR foi muito próximo ao da RNA, mas ligeiramente inferior em termos de RMSE e R².\n",
        "\n",
        "O Ensemble Learning combinou os três modelos e apresentou um RMSE de 47.82, R² de 0.571 e MAPE de 29.68%. Embora tenha desempenho muito próximo ao Random Forest, com um RMSE ligeiramente maior e R² um pouco menor, o Ensemble obteve o menor MAPE, o que indica que foi o mais eficiente em termos de erro percentual relativo. A principal vantagem do Ensemble é combinar diferentes modelos, reduzindo a probabilidade de overfitting e aproveitando os pontos fortes de cada um. No entanto, ele herda algumas limitações dos modelos individuais e pode ser mais complexo de interpretar.\n",
        "\n",
        "A medida de performance escolhida foi o RMSE. Essa métrica foi utilizada porque penaliza fortemente erros maiores, sendo ideal para problemas onde grandes desvios, como no caso de preços, têm maior impacto e precisam ser minimizados. Embora o R² também seja uma métrica importante para avaliar o ajuste do modelo como um todo, ele não oferece uma visão direta sobre os erros absolutos. Já o MAPE é útil para interpretar erros percentuais relativos, mas pode ser enganoso quando os valores reais do alvo são muito baixos.\n",
        "\n",
        "Com base nos resultados, o modelo Random Forest foi o que apresentou melhor desempenho geral, com o menor RMSE e o maior R². O Random Forest, por sua simplicidade e eficiência, é a escolha mais indicada neste caso, embora o ajuste de hiperparâmetros ou validações adicionais possam melhorar ainda mais o desempenho dos modelos."
      ],
      "metadata": {
        "id": "TLiZCgd5QtPd"
      }
    },
    {
      "cell_type": "markdown",
      "source": [
        "# 4 - Previsão do preço"
      ],
      "metadata": {
        "id": "REhLi1PjkDk8"
      }
    },
    {
      "cell_type": "code",
      "source": [
        "with open(\"random_forest.pkl\", \"rb\") as f:\n",
        "    loaded_rf_model = pickle.load(f)\n",
        "\n",
        "apartamento = {\n",
        "    'id': 2595,\n",
        "    'nome': 'Skylit Midtown Castle',\n",
        "    'host_id': 2845,\n",
        "    'host_name': 'Jennifer',\n",
        "    'bairro_group': 'Manhattan',\n",
        "    'bairro': 'Midtown',\n",
        "    'latitude': 40.75362,\n",
        "    'longitude': -73.98377,\n",
        "    'room_type': 'Entire home/apt',\n",
        "    'minimo_noites': 1,\n",
        "    'numero_de_reviews': 45,\n",
        "    'ultima_review': '2019-05-21',\n",
        "    'reviews_por_mes': 0.38,\n",
        "    'calculado_host_listings_count': 2,\n",
        "    'disponibilidade_365': 355}\n",
        "\n",
        "apartamento_df = pd.DataFrame([apartamento])\n",
        "X_apartamento = apartamento_df.drop(columns=['id', 'nome', 'host_id', 'host_name','ultima_review'])\n",
        "X_apartamento = pd.get_dummies(X_apartamento, drop_first=True)\n",
        "X_apartamento = X_apartamento.reindex(columns=X.columns, fill_value=0)\n",
        "X_apartamento_scaled = scaler.transform(X_apartamento)\n",
        "\n",
        "preco_previsto = loaded_rf_model.predict(X_apartamento_scaled)\n",
        "\n",
        "print(f'O preço previsto para o apartamento é: ${preco_previsto[0]:.2f}')"
      ],
      "metadata": {
        "colab": {
          "base_uri": "https://localhost:8080/"
        },
        "id": "Rt-n8QifkH93",
        "outputId": "793fd436-31ba-435a-9e84-b764179e84dd"
      },
      "execution_count": 54,
      "outputs": [
        {
          "output_type": "stream",
          "name": "stdout",
          "text": [
            "O preço previsto para o apartamento é: $206.81\n"
          ]
        }
      ]
    },
    {
      "cell_type": "markdown",
      "source": [
        "O código realiza a previsão do preço de um apartamento com base em um modelo de Random Forest Regressor treinado com um conjunto de dados de imóveis. Um novo apartamento é definido com características específicas, como localização, tipo de acomodação, número mínimo de noites e disponibilidade ao longo do ano. O modelo prevê o preço desse apartamento e exibe o valor estimado.\n",
        "\n",
        "O preço sugerido para o apartamento é de **$206.81** e pode ser considerado plausível com base em diversas características comprovadas ao longo da análise. Primeiramente, a localização em Manhattan é um fator relevante, pois, como demonstrado na seção \"Análises Estatísticas\", subseção \"Segmentação de Dados\", o boxplot da distribuição de preços por região confirmou que Manhattan possui os preços mais altos entre as áreas analisadas. Além disso, o imóvel pertence à categoria \"Entire home/apt\", o que agrega valor, como evidenciado na seção \"Perguntas Específicas\", subseção \"Existe algum padrão no texto do nome do local para lugares de mais alto valor?\", onde foi realizada uma análise sobre a descrição dos imóveis de alto padrão. O preço também é justificado pela política de mínimo de noites igual a 1, que, conforme demonstrado na seção \"Testes de Hipóteses\", subseção \"Impacto do número mínimo de noites nos preços\", mostrou que estadias curtas tendem a ter preços levemente mais elevados devido aos custos adicionais para o anfitrião com limpeza, manutenção e outros. Por fim, a disponibilidade anual de 365 dias também valida o preço estimado, já que a seção \"Testes de Hipóteses\", subseção \"Relação entre taxa de ocupação anual e preço\", indicou que imóveis com alta disponibilidade, ou baixa taxa de ocupação, geralmente apresentam preços mais altos devido à menor atratividade para estadias prolongadas justamente por causa do valor."
      ],
      "metadata": {
        "id": "ELCXvCgAmiIM"
      }
    }
  ]
}